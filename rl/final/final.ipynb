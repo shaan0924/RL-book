{
 "cells": [
  {
   "cell_type": "markdown",
   "metadata": {},
   "source": [
    "# CME 241 Final"
   ]
  },
  {
   "cell_type": "markdown",
   "metadata": {},
   "source": [
    "## Shaan Patel"
   ]
  },
  {
   "cell_type": "markdown",
   "metadata": {},
   "source": [
    "### Question 1"
   ]
  },
  {
   "cell_type": "code",
   "execution_count": 1,
   "metadata": {},
   "outputs": [],
   "source": [
    "from rl.distribution import Categorical\n",
    "from rl.markov_process import NonTerminal\n",
    "from rl.approximate_dynamic_programming import NTStateDistribution\n",
    "\n",
    "import itertools\n",
    "\n",
    "from rl.final.f_22_p1_skeleton import double_q_learning, q_learning, P1State, P1MDP\n",
    "\n",
    "import matplotlib.pyplot as plt"
   ]
  },
  {
   "cell_type": "code",
   "execution_count": 29,
   "metadata": {},
   "outputs": [],
   "source": [
    "startstate: NTStateDistribution = Categorical({NonTerminal(P1State(\"A\")): 1})\n",
    "\n",
    "mdp= P1MDP(10)\n",
    "\n",
    "dqiter = double_q_learning(\n",
    "    mdp=mdp,\n",
    "    states=startstate,\n",
    "    gamma=1\n",
    ")\n",
    "\n",
    "dbql = itertools.islice(dqiter, 400)\n",
    "\n",
    "sqiter = q_learning(\n",
    "    mdp=mdp,\n",
    "    states=startstate,\n",
    "    gamma=1\n",
    ")\n",
    "\n",
    "sql = itertools.islice(sqiter, 400)\n",
    "\n",
    "avgdbq = []\n",
    "avgsq = []\n",
    "\n",
    "for entry in dbql:\n",
    "    avgdbq.append(entry((NonTerminal(P1State(\"A\")),\"a1\")))\n",
    "\n",
    "for entry in sql:\n",
    "    avgsq.append(entry((NonTerminal(P1State(\"A\")),\"a1\")))\n",
    "\n",
    "\n",
    "for i in range(1,100):\n",
    "    iter_dbq = itertools.islice(\n",
    "        double_q_learning(\n",
    "            mdp=mdp,\n",
    "            states=startstate,\n",
    "            gamma=1\n",
    "        ), 400\n",
    "    )\n",
    "\n",
    "    iter_sq = itertools.islice(\n",
    "        q_learning(\n",
    "            mdp=mdp,\n",
    "            states=startstate,\n",
    "            gamma=1\n",
    "        ), 400\n",
    "    )\n",
    "\n",
    "    i = 0\n",
    "    for entry in iter_dbq:\n",
    "        avgdbq[i] += (1/(i+1))*(entry((NonTerminal(P1State(\"A\")), \"a1\")) - avgdbq[i])\n",
    "\n",
    "    j = 0\n",
    "    for entry in iter_sq:\n",
    "        avgsq[j] += (1/(j+1))*(entry((NonTerminal(P1State(\"A\")), \"a1\")) - avgsq[j])\n",
    "\n",
    "        "
   ]
  },
  {
   "cell_type": "code",
   "execution_count": 30,
   "metadata": {},
   "outputs": [
    {
     "data": {
      "text/plain": [
       "[<matplotlib.lines.Line2D at 0x134672987f0>]"
      ]
     },
     "execution_count": 30,
     "metadata": {},
     "output_type": "execute_result"
    },
    {
     "data": {
      "image/png": "[encoded data removed]",
      "text/plain": [
       "<Figure size 432x288 with 1 Axes>"
      ]
     },
     "metadata": {
      "needs_background": "light"
     },
     "output_type": "display_data"
    }
   ],
   "source": [
    "plt.plot(avgdbq)\n",
    "plt.plot(avgsq)"
   ]
  }
 ],
 "metadata": {
  "interpreter": {
   "hash": "579dcdfb899fc187fdf97538744cc3a387eca9f5084bb8d1591af8d2d48fab3d"
  },
  "kernelspec": {
   "display_name": "Python 3.9.10 ('.venv': venv)",
   "language": "python",
   "name": "python3"
  },
  "language_info": {
   "codemirror_mode": {
    "name": "ipython",
    "version": 3
   },
   "file_extension": ".py",
   "mimetype": "text/x-python",
   "name": "python",
   "nbconvert_exporter": "python",
   "pygments_lexer": "ipython3",
   "version": "3.9.10"
  },
  "orig_nbformat": 4
 },
 "nbformat": 4,
 "nbformat_minor": 2
}
