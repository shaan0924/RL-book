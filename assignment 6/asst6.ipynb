{
 "cells": [
  {
   "cell_type": "markdown",
   "metadata": {},
   "source": [
    "# CME 241 Assignment 6"
   ]
  },
  {
   "cell_type": "markdown",
   "metadata": {},
   "source": [
    "## Shaan Patel"
   ]
  },
  {
   "cell_type": "markdown",
   "metadata": {},
   "source": [
    "### Question 1"
   ]
  },
  {
   "cell_type": "markdown",
   "metadata": {},
   "source": [
    "The utility function is given by $U(x) = x - \\frac{\\alpha x^2}{2}$, so:\n",
    "\n",
    "$$ E[U(x)] = E[x - \\frac{\\alpha x^2}{2}] = E[x] - E[\\frac{\\alpha x^2}{2}] $$\n",
    "$$ = \\mu - \\frac{\\alpha}{2}E[x^2] $$\n",
    "$$ = \\mu - \\frac{\\alpha}{2}(Var(x) + E[x]^2) $$\n",
    "$$ = \\mu - \\frac{\\alpha}{2}(\\sigma^2 + \\mu^2) $$"
   ]
  },
  {
   "cell_type": "markdown",
   "metadata": {},
   "source": [
    "Given this, we now can find the certainty equivalent via the Absolute Risk Premium.\n",
    "\n",
    "$$ \\pi_A = \\frac{1}{2} A(\\mu)\\sigma_x^2 $$"
   ]
  },
  {
   "cell_type": "markdown",
   "metadata": {},
   "source": [
    "$$ U'(x) = 1 - \\alpha x $$\n",
    "$$ U''(x) = - \\alpha $$\n",
    "Therefore,\n",
    "$$A(\\mu) = \\frac{-U''(\\mu)}{U'(\\mu)} $$\n",
    "$$ = \\frac{\\alpha}{1 - \\alpha \\mu} $$\n",
    "\n",
    "$$\\pi_A = \\frac{\\alpha}{2(1 - \\alpha \\mu)} \\sigma_x^2 $$"
   ]
  },
  {
   "cell_type": "markdown",
   "metadata": {},
   "source": [
    "We also know that $\\pi_A = \\mu - x_{CE} $, so \n",
    "\n",
    "$$ \\frac{\\alpha}{2(1 - \\alpha \\mu)} \\sigma_x^2 = \\mu - x_{CE} $$\n",
    "\n",
    "That means that\n",
    "\n",
    "$$ x_{CE} = \\mu - \\frac{\\alpha}{2(1 - \\alpha \\mu)} \\sigma_x^2 $$"
   ]
  },
  {
   "cell_type": "markdown",
   "metadata": {},
   "source": [
    "For part b, we want to maximize the expected utility of the overall investment. Thus, we want to find $E[P]$ where $P$ is the portfolio. Because the risky and riskless assets are independent, we can split this utility function into the utility of the risky asset and the utility of the riskless asset.\n",
    "\n",
    "$$E[P] = E[U(zx)] + E[U((1000000 - z)r)] $$\n",
    "\n",
    "By investing $z$ dollars into the risky asset, we are essentially creating $z$ instances of the random return $x$. Thus we want the utility of $z$ times the random return $x$. A similar logic applies to the riskless asset."
   ]
  },
  {
   "cell_type": "markdown",
   "metadata": {},
   "source": [
    "We already found the expected utility of the risky asset from before and so we multiply the argument by $z$ to get the following:\n",
    "\n",
    "$$ E[P] = (\\mu z - \\frac{\\alpha z^2}{2}(\\sigma^2 + \\mu^2)) + E[U((1000000 - z)r)] $$\n",
    "\n",
    "The riskless asset has no variation, so the expected utility is just the utility of $r$.\n",
    "\n",
    "$$ E[P] = \\mu z - \\frac{\\alpha z^2}{2}(\\sigma^2 + \\mu^2) + (1000000 - z)r - \\frac{\\alpha (1000000 - z)^2 r^2}{2} $$"
   ]
  },
  {
   "cell_type": "markdown",
   "metadata": {},
   "source": [
    "We now want to find $z$ such that the utility is maximized. This is done simply by taking the derivative with respect to $z$ and setting it to 0 to find the maximum.\n",
    "\n",
    "$$0 = \\mu - \\alpha z(\\sigma^2 + \\mu^2) - r + \\alpha (1000000 - z)r^2 $$"
   ]
  },
  {
   "cell_type": "markdown",
   "metadata": {},
   "source": [
    "$$0 = \\mu - r + 1000000\\alpha r^2 - \\alpha z(\\sigma^2 + \\mu^2) - \\alpha z r^2 $$\n",
    "\n",
    "$$0 = \\mu - r + 1000000\\alpha r^2 - \\alpha z(\\sigma^2 + \\mu^2 - r^2) $$"
   ]
  },
  {
   "cell_type": "markdown",
   "metadata": {},
   "source": [
    "We now have our maximum value of $z$:\n",
    "\n",
    "$$z = \\frac{\\mu - r + 1000000 \\alpha r^2}{\\alpha(\\sigma^2 + \\mu^2 - r^2)} $$"
   ]
  },
  {
   "cell_type": "code",
   "execution_count": 1,
   "metadata": {},
   "outputs": [],
   "source": [
    "import matplotlib.pyplot as plt\n",
    "import numpy as np"
   ]
  },
  {
   "cell_type": "code",
   "execution_count": 2,
   "metadata": {},
   "outputs": [
    {
     "data": {
      "text/plain": [
       "[<matplotlib.lines.Line2D at 0x1c9c7beefd0>]"
      ]
     },
     "execution_count": 2,
     "metadata": {},
     "output_type": "execute_result"
    },
    {
     "data": {
      "image/png": "[encoded data removed]",
      "text/plain": [
       "<Figure size 432x288 with 1 Axes>"
      ]
     },
     "metadata": {
      "needs_background": "light"
     },
     "output_type": "display_data"
    }
   ],
   "source": [
    "mu = 0.5\n",
    "r = 0.2\n",
    "s = 1\n",
    "\n",
    "alpha = np.linspace(1,10,100)\n",
    "z = [0.0]*len(alpha)\n",
    "for i in range(len(alpha)):\n",
    "    z[i] = (mu - r + 1000000*alpha[i]*r**2)/(alpha[i]*(s**2 + mu**2 - r**2))\n",
    "\n",
    "plt.plot(alpha,z)"
   ]
  },
  {
   "cell_type": "markdown",
   "metadata": {},
   "source": [
    "### Question 3"
   ]
  },
  {
   "cell_type": "markdown",
   "metadata": {},
   "source": [
    "At the end of the single bet with starting wealth $W_0$, the two outcomes are $fW_0 (1 + \\alpha)$ and $fW_0 (1 - \\beta)$"
   ]
  },
  {
   "cell_type": "markdown",
   "metadata": {},
   "source": [
    "Given this, the two outcomes for the utility of $W$ are $\\log(fW_0(1 + \\alpha) + (1-f)W_0)$ and $\\log(fW_0(1 - \\beta) + (1-f)W_0)$"
   ]
  },
  {
   "cell_type": "markdown",
   "metadata": {},
   "source": [
    "As a result, the expected value of the utility is:\n",
    "\n",
    "$$E[U(W)] = E[\\log(W)]$$\n",
    "$$ = p \\log(fW_0(1 + \\alpha) + (1-f)W_0) + q \\log(fW_0(1 - \\beta) + (1-f)W_0) $$\n",
    "$$ = p \\log(fW_0\\alpha + W_0) + q \\log(-fW_0\\beta + W_0) $$"
   ]
  },
  {
   "cell_type": "markdown",
   "metadata": {},
   "source": [
    "Derivative with respect to $f$ gives:\n",
    "\n",
    "$$ 0 = \\frac{p\\alpha}{f\\alpha + 1} + \\frac{\\beta(p-1)}{1 - f\\beta} $$"
   ]
  },
  {
   "cell_type": "markdown",
   "metadata": {},
   "source": [
    "This simplifies to:\n",
    "\n",
    "$$0 = \\frac{p\\alpha(1 - f\\beta) + \\beta(p-1)(f\\alpha + 1)}{(f\\alpha + 1)(1 - f\\beta)} $$\n",
    "$$0 = \\frac{p\\alpha - pf\\alpha\\beta + pf\\alpha\\beta + p\\beta - f\\alpha\\beta - \\beta}{f\\alpha - f^2\\alpha\\beta + 1 - f\\beta} $$\n",
    "$$ = \\frac{p\\alpha + p\\beta - f\\alpha\\beta - \\beta}{f\\alpha - f^2\\alpha\\beta + 1 - f\\beta} $$"
   ]
  },
  {
   "cell_type": "markdown",
   "metadata": {},
   "source": [
    "This implies that the optimal $f^*$ is \n",
    "\n",
    "$$f\\alpha\\beta = p(\\alpha + \\beta) - \\beta$$\n",
    "$$f^* = \\frac{p(\\alpha + \\beta) - \\beta}{\\alpha\\beta} $$"
   ]
  },
  {
   "cell_type": "markdown",
   "metadata": {},
   "source": [
    "If we rewrite this value, we get\n",
    "$$ f^* = \\frac{\\alpha p - \\beta (1 - p)}{\\alpha \\beta} $$\n",
    "\n",
    "This makes intuitive sense as the numerator is the expected return of the bet and so the optimal fraction is this expected return discounted by the return of each outcome."
   ]
  },
  {
   "cell_type": "markdown",
   "metadata": {},
   "source": [
    "The second derivative with respect to $f$ gives:\n",
    "\n",
    "$$ \\frac{-\\alpha^2p}{(f\\alpha + 1)^2} + \\frac{\\beta^2(p - 1)}{(1 - f\\beta)^2} $$"
   ]
  },
  {
   "cell_type": "markdown",
   "metadata": {},
   "source": [
    "Substituting our $f^*$ gives:\n",
    "\n",
    "$$ \\frac{-\\alpha^2p\\beta^2}{p^2(\\alpha + \\beta)^2} + \\frac{\\beta^2(p-1)\\alpha^2}{(1 - p)^2(\\alpha + \\beta)^2} $$"
   ]
  },
  {
   "cell_type": "markdown",
   "metadata": {},
   "source": [
    "$$ = \\frac{-\\alpha^2\\beta^2(p(1 - p)^2 + p^2(1 - p))}{p^2(1-p)^2(\\alpha + \\beta)^2} $$"
   ]
  },
  {
   "cell_type": "markdown",
   "metadata": {},
   "source": [
    "$$ = \\frac{-\\alpha^2\\beta^2p(1-p)}{p^2(1-p)^2(\\alpha + \\beta)^2} $$"
   ]
  },
  {
   "cell_type": "markdown",
   "metadata": {},
   "source": [
    "As we can see, the denominator is all squares, so it will be positive for all values of $p$, $\\alpha$, and $\\beta$. In the numerator, we know that the probability $p$ will always between 0 and 1. Thus, both $p$ and $1-p$ will both be positive and $\\alpha^2$ and $\\beta^2$ will also be positive because they are squared real numbers. As a result, the negative sign causes the entire second derivative to be negative for $f^*$, indicating that this value is indeed a maximum."
   ]
  }
 ],
 "metadata": {
  "interpreter": {
   "hash": "579dcdfb899fc187fdf97538744cc3a387eca9f5084bb8d1591af8d2d48fab3d"
  },
  "kernelspec": {
   "display_name": "Python 3.9.10 64-bit ('.venv': venv)",
   "language": "python",
   "name": "python3"
  },
  "language_info": {
   "codemirror_mode": {
    "name": "ipython",
    "version": 3
   },
   "file_extension": ".py",
   "mimetype": "text/x-python",
   "name": "python",
   "nbconvert_exporter": "python",
   "pygments_lexer": "ipython3",
   "version": "3.9.10"
  },
  "orig_nbformat": 4
 },
 "nbformat": 4,
 "nbformat_minor": 2
}
