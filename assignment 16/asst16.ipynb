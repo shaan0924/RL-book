{
 "cells": [
  {
   "cell_type": "markdown",
   "metadata": {},
   "source": [
    "# CME 241 Assignment 16"
   ]
  },
  {
   "cell_type": "markdown",
   "metadata": {},
   "source": [
    "## Shaan Patel"
   ]
  },
  {
   "cell_type": "markdown",
   "metadata": {},
   "source": [
    "### Question 3"
   ]
  },
  {
   "cell_type": "markdown",
   "metadata": {},
   "source": [
    "#### Part A:"
   ]
  },
  {
   "cell_type": "markdown",
   "metadata": {},
   "source": [
    "$$ \\nabla_\\theta \\log\\pi(s,a;\\theta) = \\nabla_\\theta \\log(\\frac{e^{\\phi(s,a)^T\\theta}}{\\sum_{b\\in A}e^{\\phi(s,b)^T\\theta}}) $$\n",
    "\n",
    "$$ = \\nabla_\\theta (\\log e^{\\phi(s,a)^T\\theta} - \\log \\sum_{b\\in A}e^{\\phi(s,b)^T\\theta} ) $$\n",
    "\n",
    "$$ = \\nabla_\\theta (\\phi(s,a)^T\\theta - \\log \\sum_{b\\in A}e^{\\phi(s,b)^T\\theta}) $$\n",
    "\n",
    "$$ = \\phi(s,a)^T - \\frac{\\sum_{b\\in A} \\phi(s,b)^T e^{\\phi(s,b)^T\\theta}}{\\sum_{b\\in A}e^{\\phi(s,b)^T\\theta}}"
   ]
  },
  {
   "cell_type": "markdown",
   "metadata": {},
   "source": [
    "#### Part B:"
   ]
  },
  {
   "cell_type": "markdown",
   "metadata": {},
   "source": [
    "$$ Q(s,a;w) = \\sum_{i=1}^m \\frac{\\partial \\log \\pi(s,a;\\theta)}{\\partial \\theta_i} w_i $$"
   ]
  },
  {
   "cell_type": "markdown",
   "metadata": {},
   "source": [
    "#### Part C:"
   ]
  },
  {
   "cell_type": "markdown",
   "metadata": {},
   "source": []
  }
 ],
 "metadata": {
  "interpreter": {
   "hash": "579dcdfb899fc187fdf97538744cc3a387eca9f5084bb8d1591af8d2d48fab3d"
  },
  "kernelspec": {
   "display_name": "Python 3.9.10 ('.venv': venv)",
   "language": "python",
   "name": "python3"
  },
  "language_info": {
   "name": "python",
   "version": "3.9.10"
  },
  "orig_nbformat": 4
 },
 "nbformat": 4,
 "nbformat_minor": 2
}
