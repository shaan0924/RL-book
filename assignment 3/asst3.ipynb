{
 "cells": [
  {
   "cell_type": "markdown",
   "metadata": {},
   "source": [
    "# CME 241 Assignment 3"
   ]
  },
  {
   "cell_type": "markdown",
   "metadata": {},
   "source": [
    "## Shaan Patel"
   ]
  },
  {
   "cell_type": "markdown",
   "metadata": {},
   "source": [
    "### Question 1"
   ]
  },
  {
   "cell_type": "markdown",
   "metadata": {},
   "source": [
    "When using a deterministic policy, the action $a$ is given by a fixed function $\\pi (s)$ that depends on the state. In this situation, there is no randomness in the action decision, as the state determines what action will be taken."
   ]
  },
  {
   "cell_type": "markdown",
   "metadata": {},
   "source": [
    "As such, the 4 MDP Bellman Policy equations become the following:\n",
    "\n",
    "$ V^*(s) = Q*(s, \\pi(s)) $ for all  $s \\in N $\n",
    "\n",
    "$ Q^*(s, \\pi(s)) = R(s, \\pi(s)) + \\gamma \\sum_{s' \\in N} P(s, \\pi(s), s') V^*(s')$ for all $ s \\in N$\n",
    "\n",
    "$V^*(s) = R(s, \\pi(s)) + \\gamma \\sum_{s' \\in N} P(s, \\pi(s), s') V^*(s')$ for all $ s \\in N$\n",
    "\n",
    "$Q^*(s, \\pi(s)) = R(s, \\pi(s)) + \\gamma \\sum_{s' \\in N}P(s, \\pi(s), s') Q^*(s', \\pi(s')) $ for all $s \\in N$\n"
   ]
  },
  {
   "cell_type": "markdown",
   "metadata": {},
   "source": [
    "As shown, the $ \\max_{a \\in A}$ gets removed because for each $s$ there is a fixed action that is taken based on $\\pi(s)$."
   ]
  },
  {
   "cell_type": "markdown",
   "metadata": {},
   "source": [
    "### Question 2"
   ]
  },
  {
   "cell_type": "markdown",
   "metadata": {},
   "source": [
    "$$V^*(s) = \\max_{a \\in A} [R(s, a) + \\gamma \\sum_{s' \\in N} P(s, a, s') V^*(s')]$$\n",
    "\n",
    "Given that $s'$ can only be reached when $s = s'$ or $s + 1 = s'$, we get that $$\\sum_{s' \\in N} P(s, a, s') V^*(s')$$ becomes $$ P(s, a, s) V^*(s) + P(s, a, s+1) V^*(s+1)$$"
   ]
  },
  {
   "cell_type": "markdown",
   "metadata": {},
   "source": [
    "This simplifies our equation to\n",
    "\n",
    "$$ V^*(s) = \\max_{a \\in A} [ R(s,a) + \\gamma ((1-a)V^*(s) + aV^*(s + 1))] $$\n",
    "\n",
    "For $R(s,a)$, we know that $R(s,a) = E[r_{t+1} | S_{t+1} = s', S_{t} = s, A_{t} = a]$, so\n",
    "\n",
    "$$R(s,a) = r(s)P(s,a,s) + r(s+1)P(s,a,s+1) = (1+a)(1-a) + (1-a)a $$\n",
    "\n",
    "Putting this value of $R(s,a)$ back into the equation, we get\n",
    "\n",
    "$$\\max_{a \\in A} [ (1+a)(1-a) + a(1-a) + \\gamma(1-a)V^*(s) + \\gamma a V^*(s + 1)] $$\n",
    "\n",
    "$$ = \\max_{a \\in A} [ 1 - a - 2a^2 + \\gamma(1-a)V^*(s) + \\gamma a V^*(s + 1)] $$"
   ]
  },
  {
   "cell_type": "markdown",
   "metadata": {},
   "source": [
    "### Question 3"
   ]
  }
 ],
 "metadata": {
  "language_info": {
   "name": "python"
  },
  "orig_nbformat": 4
 },
 "nbformat": 4,
 "nbformat_minor": 2
}
