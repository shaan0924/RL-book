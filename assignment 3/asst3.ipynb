{
 "cells": [
  {
   "cell_type": "markdown",
   "metadata": {},
   "source": [
    "# CME 241 Assignment 3"
   ]
  },
  {
   "cell_type": "markdown",
   "metadata": {},
   "source": [
    "## Shaan Patel"
   ]
  },
  {
   "cell_type": "markdown",
   "metadata": {},
   "source": [
    "### Question 1"
   ]
  },
  {
   "cell_type": "markdown",
   "metadata": {},
   "source": [
    "When using a deterministic policy, the action $a$ is given by a fixed function $\\pi (s)$ that depends on the state. In this situation, there is no randomness in the action decision, as the state determines what action will be taken."
   ]
  },
  {
   "cell_type": "markdown",
   "metadata": {},
   "source": [
    "As such, the 4 MDP Bellman Policy equations become the following:\n",
    "\n",
    "$ V^{\\pi_D}(s) = R(s, \\pi_D(s)) + \\gamma \\sum_{s' \\in N} P(s, \\pi_D(s), s') V^{\\pi_D}(s') $\n",
    "\n",
    "$ V^{\\pi_D}(s) = Q^{\\pi_D}(s, \\pi_D(s))$\n",
    "\n",
    "$Q^{\\pi_D}(s, \\pi_D(s)) = R(s, \\pi_D(s)) + \\gamma \\sum_{s' \\in N} P(s, \\pi_D(s), s') V^{\\pi_D}(s') $\n",
    "\n",
    "$Q^{\\pi_D}(s, \\pi_D(s)) = R(s, \\pi_D(s)) + \\gamma \\sum_{s' \\in N}P(s, \\pi(s), s') Q^{\\pi_D}(s', \\pi_D(s')) $"
   ]
  },
  {
   "cell_type": "markdown",
   "metadata": {},
   "source": [
    "As shown, the $ \\sum_{a \\in A}$ gets removed because for each $s$ there is a fixed action that is taken based on $\\pi(s)$."
   ]
  },
  {
   "cell_type": "markdown",
   "metadata": {},
   "source": [
    "### Question 2"
   ]
  },
  {
   "cell_type": "markdown",
   "metadata": {},
   "source": [
    "Note that the rewards, transition probabilities, and states do not depend on the explicit value of $s$. As a result, we can see that the explicit value of $s$ is irrelevant to the value function, thus implying that the value function is the same for all values of $s$. Thus, $V^*(s) = V^*(s + 1)$, and"
   ]
  },
  {
   "cell_type": "markdown",
   "metadata": {},
   "source": [
    "$$V^*(s) = \\max_{a \\in A} [R(s,a) + \\gamma V^*(s) \\sum_{s' \\in N} P(s,a,s')] $$"
   ]
  },
  {
   "cell_type": "markdown",
   "metadata": {},
   "source": [
    "The sum over all states of $P(s,a,s')$ is 1, so we get\n",
    "\n",
    "$$V^*(s) = \\max_{a \\in A} [R(s,a) + \\gamma V^*(s)] $$\n",
    "\n",
    "This causes $ \\gamma V^*(s)$ to not depend on $a$, so it can be removed from the max equation.\n",
    "\n",
    "$$ (1 - \\gamma)V^*(s) = \\max_{a \\in A} R(s,a) $$"
   ]
  },
  {
   "cell_type": "markdown",
   "metadata": {},
   "source": [
    "$$ R(s,a) = E[r_{t+1}|S_t = s, A_t = a] = (1 - a)a + (1+a)(1-a) $$\n",
    "$$ = (1-a)(2a + 1) = 1 + a - 2a^2 $$"
   ]
  },
  {
   "cell_type": "markdown",
   "metadata": {},
   "source": [
    "The values of $a$ are either 0 or 1, thus $\\max_{a \\in A} R(s,a) = 1 $, when $a$ is 0. Thus,\n",
    "\n",
    "$$ V^*(s) = \\frac{1}{1 - \\gamma} = 2$$\n",
    "\n",
    "To have an optimal deterministic policy, we should hit the optimal value function for each state. As a result, because the value function is the same for all states, the optimal choice for $a$ remains the same across all $s$. Thus,\n",
    "\n",
    "$$ \\pi^*(s) = 0 $$"
   ]
  },
  {
   "cell_type": "markdown",
   "metadata": {},
   "source": [
    "### Question 3"
   ]
  },
  {
   "cell_type": "markdown",
   "metadata": {},
   "source": [
    "The state space of this frog problem is all lilypads from 0 to $n$.\n",
    "The action space is the set $A, B$\n",
    "For the transition function, we have\n",
    "\n",
    "if $s' = s - 1$, \n",
    "$$P(s,a,s') = \\frac{s + 1}{2n} $$\n",
    "\n",
    "if $s' = s + 1$,\n",
    "$$P(s,a,s') = \\frac{n-s + 1}{2n}$$\n",
    "\n",
    "all other cases,\n",
    "$$P(s,a,s') = \\frac{1}{2n} $$\n",
    "\n",
    "In this scenario, the frog has an equal chance of choosing either action, and thus there is a 1/2 chance of choosing either croak. In the case of croak A, the frog can only go one space forward or backward. Thus there is no way to go to any state aside from $i-1$ or $i+1$ given croak A. If the frog croaks B, then there is a $\\frac{1}{n}$ chance it can land one space away from its previous state as well, so these are included in the calculation."
   ]
  },
  {
   "cell_type": "markdown",
   "metadata": {},
   "source": [
    "We want to make the value function show the probability of escaping. As such, the reward function should be an indicator of when the frog escapes. Thus, the reward will be 0 for all lilypads that are from 0 to $n-1$ and the $n$ lilypad wil have a reward of 1."
   ]
  },
  {
   "cell_type": "code",
   "execution_count": 89,
   "metadata": {},
   "outputs": [],
   "source": [
    "from typing import Tuple, Dict, Mapping\n",
    "from rl.distribution import Categorical\n",
    "from rl.markov_decision_process import FiniteMarkovDecisionProcess\n",
    "from rl.policy import FinitePolicy\n",
    "import numpy as np\n",
    "import matplotlib.pyplot as plt"
   ]
  },
  {
   "cell_type": "code",
   "execution_count": 58,
   "metadata": {},
   "outputs": [],
   "source": [
    "def calc_prob(b,a,x,n):\n",
    "    if a == 0:\n",
    "        if x == b-1:\n",
    "            return b/n\n",
    "        elif x == b+1:\n",
    "            return (n-b)/n\n",
    "        else:\n",
    "            return 0\n",
    "    elif a == 1:\n",
    "        return 1/n\n",
    "    else:\n",
    "        return 0\n",
    "\n",
    "def calc_list(b,a,n):\n",
    "    if a == 0:\n",
    "        return [b-1, b+1]\n",
    "    elif a == 1:\n",
    "        endlist = list(range(n+1))\n",
    "        endlist.remove(b)\n",
    "        return endlist\n",
    "    else:\n",
    "        return range(0,n)\n",
    "\n",
    "class LilypadMDP(FiniteMarkovDecisionProcess[int,int]):\n",
    "    def __init__(self, n):\n",
    "        spaces = range(1,n)\n",
    "        self.non_terminal_states = spaces\n",
    "        actions = [0,1]\n",
    "        self.mapping = {\n",
    "            b: {\n",
    "                a: Categorical(\n",
    "                    {(x, 1 if x is n else 0): (calc_prob(b,a,x,n))\n",
    "                    for x in calc_list(b,a,n)}\n",
    "                ) for a in actions\n",
    "            } for b in spaces\n",
    "        }\n",
    "        super().__init__(self.mapping)"
   ]
  },
  {
   "cell_type": "code",
   "execution_count": 86,
   "metadata": {},
   "outputs": [
    {
     "name": "stdout",
     "output_type": "stream",
     "text": [
      "[0.57142857 0.71428571]\n",
      "[1, 0]\n"
     ]
    }
   ],
   "source": [
    "def findoptimals(n):\n",
    "    optimalpol = [0]*(n-1)\n",
    "    lily = LilypadMDP(n)\n",
    "\n",
    "    mapping = {\n",
    "        b: Categorical({optimalpol[b-1]: 1}) for b in range(1,n)\n",
    "    }\n",
    "    newpol = FinitePolicy(mapping)\n",
    "    MRP = lily.apply_finite_policy(newpol)\n",
    "    lilyvalue = MRP.get_value_function_vec(1)\n",
    "    \n",
    "    power = pow(2,(n-1))\n",
    "    for i in range(1,power):\n",
    "        lilylist = [int(i) for i in list(np.binary_repr(i, width=(n-1)))]\n",
    "        mapping = {\n",
    "            b: Categorical({lilylist[b-1]:1}) for b in range(1,n)\n",
    "        }\n",
    "        newpol = FinitePolicy(mapping)\n",
    "        MRP = lily.apply_finite_policy(newpol)\n",
    "        newval = MRP.get_value_function_vec(1)\n",
    "        if np.all(np.greater(newval,lilyvalue)):\n",
    "            lilyvalue = newval\n",
    "            optimalpol = lilylist\n",
    "    \n",
    "    return lilyvalue, optimalpol\n",
    "\n",
    "x,y = findoptimals(3)\n",
    "print(x)\n",
    "print(y)\n"
   ]
  },
  {
   "cell_type": "code",
   "execution_count": 87,
   "metadata": {},
   "outputs": [
    {
     "name": "stdout",
     "output_type": "stream",
     "text": [
      "[0.65957447 0.70212766 0.72340426 0.74468085 0.78723404]\n",
      "[1, 0, 0, 0, 0]\n"
     ]
    }
   ],
   "source": [
    "x,y = findoptimals(6)\n",
    "print(x)\n",
    "print(y)"
   ]
  },
  {
   "cell_type": "code",
   "execution_count": 88,
   "metadata": {},
   "outputs": [
    {
     "name": "stdout",
     "output_type": "stream",
     "text": [
      "[0.67567568 0.70523649 0.71368243 0.71790541 0.72128378 0.72550676\n",
      " 0.7339527  0.76351351]\n",
      "[1, 0, 0, 0, 0, 0, 0, 0]\n"
     ]
    }
   ],
   "source": [
    "x,y = findoptimals(9)\n",
    "print(x)\n",
    "print(y)"
   ]
  },
  {
   "cell_type": "code",
   "execution_count": 94,
   "metadata": {},
   "outputs": [
    {
     "data": {
      "text/plain": [
       "[<matplotlib.lines.Line2D at 0x1dacf38ef70>]"
      ]
     },
     "execution_count": 94,
     "metadata": {},
     "output_type": "execute_result"
    },
    {
     "data": {
      "image/png": "[encoded data removed]",
      "text/plain": [
       "<Figure size 432x288 with 1 Axes>"
      ]
     },
     "metadata": {
      "needs_background": "light"
     },
     "output_type": "display_data"
    }
   ],
   "source": [
    "prob3, croak3 = findoptimals(3)\n",
    "prob6, croak6 = findoptimals(6)\n",
    "prob9, croak9 = findoptimals(9)\n",
    "\n",
    "xaxis3 = [1,2]\n",
    "xaxis6 = [1,2,3,4,5]\n",
    "xaxis9 = [1,2,3,4,5,6,7,8]\n",
    "\n",
    "plt.plot(xaxis3,prob3, c = 'blue')\n",
    "plt.plot(xaxis3,croak3, c = 'blue', linestyle = 'dashed')\n",
    "plt.plot(xaxis6,prob6, c = 'red')\n",
    "plt.plot(xaxis6,croak6, c = 'red', linestyle = 'dashed')\n",
    "plt.plot(xaxis9,prob9, c = 'green')\n",
    "plt.plot(xaxis9,croak9, c = 'green', linestyle = 'dashed')"
   ]
  },
  {
   "cell_type": "markdown",
   "metadata": {},
   "source": [
    "The graph above shows the Optimal Croaks and Optimal Probabilities for each lilypad given a specific $n$ (blue is 3 pads, red is 6, and green is 9). As we can see, the Optimal Croak strategy remains the same across all $n$; use croak B on the first pad and then use croak A for all other pads. This is due to the fact that using croak A on pad 1 will lead to a significantly higher chance of getting eaten than using croak B. For all other situations, using croak A is better as the chance of getting eaten is 0, and there is no time constraint on getting to the other side."
   ]
  },
  {
   "cell_type": "markdown",
   "metadata": {},
   "source": [
    "### Question 4"
   ]
  },
  {
   "cell_type": "markdown",
   "metadata": {},
   "source": [
    "The Expected Discounted Sum of Costs can be modeled through the MDP Bellman Policy Equation\n",
    "\n",
    "$$V^\\pi(s) = \\sum_{a \\in A} \\pi(s,a) [R(s,a) + \\gamma \\sum_{s' \\in N} P(s,a,s') V^\\pi(s')] $$\n",
    "\n",
    "In the myopic case, $\\gamma$ is 0, so the equation simplifies to \n",
    "\n",
    "$$V^\\pi(s) = \\sum_{a \\in A} \\pi(s,a) R(s,a) $$"
   ]
  },
  {
   "cell_type": "markdown",
   "metadata": {},
   "source": [
    "We are in the continuous case, so the sum is replaced with an integral, giving us\n",
    "\n",
    "$$V^\\pi(s) = \\int_{A} \\pi(s,a) R(s,a) da$$\n",
    "\n",
    "The reward function $R$ is the expected return in the next period given current state $s$ and action $a$. Thus, because $s'$ follows a $N(s,\\sigma)$ distribution, we can see that\n",
    "\n",
    "$$ R(s,a) = E[e^{as'}] = \\int_{\\infty}^{\\infty} e^{ax} \\frac{1}{\\sigma \\sqrt{2\\pi}} e^{\\frac{-1}{2}(\\frac{x - s}{\\sigma})^2} dx$$"
   ]
  },
  {
   "cell_type": "markdown",
   "metadata": {},
   "source": [
    "In the exponents, we have $2\\sigma^2 ax - x^2 + 2xs - s^2 $ so we can complete the square to get $$(-x^2 + 2x(s + \\sigma^2 a) - (s + \\sigma^2 a)^2) + 2\\sigma^2 as +  \\sigma^4 a^2 $$ or $$-(x - s - \\sigma^2 a)^2 + 2\\sigma^2 as + \\sigma^4 a^2  $$"
   ]
  },
  {
   "cell_type": "markdown",
   "metadata": {},
   "source": [
    "Because the latter two terms have no x, we can take them out of the integral\n",
    "\n",
    "$$ e^{\\frac{\\sigma^2 a (2s + \\sigma^2 a)}{2\\sigma^2}} \\int_\\infty^\\infty \\frac{1}{\\sigma \\sqrt{2\\pi}} e^{\\frac{-1}{2} (\\frac{x - s - \\sigma^2 a}{\\sigma})^2} dx$$"
   ]
  },
  {
   "cell_type": "markdown",
   "metadata": {},
   "source": [
    "The integral thus simplifies to the pdf of a $N(s + \\sigma^2 a, \\sigma)$ distribution, so integrating it over all real values equates it to 1. So,\n",
    "\n",
    "$$R(s,a) = e^{\\frac{a (2s + \\sigma^2 a)}{2}} $$"
   ]
  },
  {
   "cell_type": "markdown",
   "metadata": {},
   "source": [
    "Going back to the value function we see that\n",
    "\n",
    "$$V^\\pi(s) = \\int_A \\pi(s,a) e^{\\frac{a (2s + \\sigma^2 a)}{2}} da$$\n",
    "\n",
    "For any s, the minimum value of this function (provided that $\\pi(s,a)$ is 1 at this minimum value and 0 everywhere else) is when $a(2s + \\sigma^2 a)$ is at its minimum. Therefore, the minimum is reached when $2s + 2\\sigma^2 a= 0$, or\n",
    "\n",
    "$$ a = \\frac{-s}{\\sigma^2} $$\n",
    "\n",
    "This provides a cost of $e^{\\frac{-ss'}{\\sigma^2}}$"
   ]
  }
 ],
 "metadata": {
  "interpreter": {
   "hash": "579dcdfb899fc187fdf97538744cc3a387eca9f5084bb8d1591af8d2d48fab3d"
  },
  "kernelspec": {
   "display_name": "Python 3.9.9 64-bit ('.venv': venv)",
   "language": "python",
   "name": "python3"
  },
  "language_info": {
   "codemirror_mode": {
    "name": "ipython",
    "version": 3
   },
   "file_extension": ".py",
   "mimetype": "text/x-python",
   "name": "python",
   "nbconvert_exporter": "python",
   "pygments_lexer": "ipython3",
   "version": "3.9.9"
  },
  "orig_nbformat": 4
 },
 "nbformat": 4,
 "nbformat_minor": 2
}
