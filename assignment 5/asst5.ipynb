{
 "cells": [
  {
   "cell_type": "markdown",
   "metadata": {},
   "source": [
    "# CME 241 Assignment 5"
   ]
  },
  {
   "cell_type": "markdown",
   "metadata": {},
   "source": [
    "## Shaan Patel"
   ]
  },
  {
   "cell_type": "markdown",
   "metadata": {},
   "source": [
    "### Question 1"
   ]
  },
  {
   "cell_type": "code",
   "execution_count": 8,
   "metadata": {},
   "outputs": [],
   "source": [
    "from typing import Tuple, Sequence, Iterator, List\n",
    "from itertools import islice\n",
    "import numpy as np\n",
    "import matplotlib.pyplot as plt\n",
    "from rl.chapter5.func_approx_simple_examples import example_model_data_generator\n",
    "\n",
    "Tuple5 = Tuple[float, float, float, float, float]\n",
    "Triple = Tuple[float, float, float]\n",
    "DataSeq = Sequence[Tuple[Triple, float]]"
   ]
  },
  {
   "cell_type": "code",
   "execution_count": 133,
   "metadata": {},
   "outputs": [],
   "source": [
    "def cubic_spline(\n",
    "    num_pts: int, \n",
    "    data: List[Tuple[float,float]]\n",
    "    ):\n",
    "\n",
    "    n = num_pts - 1\n",
    "\n",
    "    a = [0]*num_pts\n",
    "    for i in range(num_pts):\n",
    "        a[i] = data[i][1]\n",
    "    \n",
    "    b = [0]*n\n",
    "    d = [0]*n\n",
    "\n",
    "    h = [0]*n\n",
    "    for i in range(n):\n",
    "        h[i] = data[i+1][0] - data[i][0]\n",
    "\n",
    "    alpha = [0]*n\n",
    "    for i in range(1,n):\n",
    "        alpha[i] = (3/h[i])*(a[i+1] - a[i]) - (3/h[i-1])*(a[i] - a[i - 1])\n",
    "    \n",
    "    c = [0]*num_pts\n",
    "    l = [0]*num_pts\n",
    "    mu = [0]*num_pts\n",
    "    z = [0]*num_pts\n",
    "\n",
    "    l[0] = 1\n",
    "    mu[0] = 0\n",
    "    z[0] = 0\n",
    "\n",
    "    for i in range(1,n):\n",
    "        l[i] = 2*(data[i+1][0] - data[i-1][0]) - h[i-1]*mu[i-1]\n",
    "        mu[i] = h[i]/l[i]\n",
    "        z[i] = (alpha[i] - h[i-1]*z[i-1])/l[i]\n",
    "    \n",
    "    l[n] = 1\n",
    "    z[n] = 0\n",
    "    c[n] = 0\n",
    "\n",
    "\n",
    "    for i in range(n-1,-1, -1):\n",
    "        c[i] = z[i] - mu[i]*c[i+1]\n",
    "        b[i] = (a[i+1] - a[i])/h[i] - (h[i]*(c[i+1] - 2*c[i]))/3\n",
    "        d[i] = (c[i+1] - c[i])/(3*h[i])\n",
    "    \n",
    "    output = [tuple()]*n\n",
    "    for i in range(n):\n",
    "        output[i] = (a[i], b[i], c[i], d[i], data[i][0])\n",
    "\n",
    "    return output\n"
   ]
  },
  {
   "cell_type": "code",
   "execution_count": 134,
   "metadata": {},
   "outputs": [],
   "source": [
    "test_num_pts = 10\n",
    "data_gen: Iterator[Tuple[Triple, float]] = example_model_data_generator()\n",
    "test_data: DataSeq = list(islice(data_gen, test_num_pts))\n",
    "\n",
    "dataset = [tuple()]*test_num_pts\n",
    "\n",
    "for i in range(test_num_pts):\n",
    "    dataset[i] = (test_data[i][0][0], test_data[i][1])\n",
    "\n",
    "dataset.sort(key = lambda y: y[0])\n",
    "\n",
    "spline = cubic_spline(test_num_pts, dataset)"
   ]
  },
  {
   "cell_type": "code",
   "execution_count": 136,
   "metadata": {},
   "outputs": [
    {
     "data": {
      "image/png": "[encoded data removed]",
      "text/plain": [
       "<Figure size 432x288 with 1 Axes>"
      ]
     },
     "metadata": {
      "needs_background": "light"
     },
     "output_type": "display_data"
    }
   ],
   "source": [
    "points = np.array(dataset)\n",
    "plt.scatter(points[:,0], points[:,1])\n",
    "\n",
    "for i in range(test_num_pts - 1):\n",
    "    xvals = np.linspace(dataset[i][0], dataset[i+1][0], 100)\n",
    "    funclist = []\n",
    "    for j in range(len(xvals)):\n",
    "        funcval = spline[i][0] + spline[i][1]*(xvals[j] - spline[i][4]) + spline[i][2]*(xvals[j] - spline[i][4])**2 +\\\n",
    "            spline[i][3]*(xvals[j] - spline[i][4])**3\n",
    "        funclist.append(funcval)\n",
    "\n",
    "    plt.plot(xvals, funclist)\n",
    "\n",
    "\n",
    "\n"
   ]
  },
  {
   "cell_type": "code",
   "execution_count": 137,
   "metadata": {},
   "outputs": [
    {
     "name": "stdout",
     "output_type": "stream",
     "text": [
      "[(-1.3133680464393591, -1.9766390378250434), (-1.2129994692673685, -13.784704979381111), (-0.9379874874905388, -8.219904153112097), (0.02901515026506252, 9.99333258466472), (0.07400454180573393, 4.9056500194142405), (0.25779358412409464, 15.237787817463055), (0.325063437675559, 24.93318158763854), (0.6784624832049031, 12.767162455103124), (0.7674774137477456, 0.6586982556545005), (0.9633287433788702, 17.13185421891066)]\n"
     ]
    }
   ],
   "source": [
    "print(dataset)"
   ]
  }
 ],
 "metadata": {
  "interpreter": {
   "hash": "579dcdfb899fc187fdf97538744cc3a387eca9f5084bb8d1591af8d2d48fab3d"
  },
  "kernelspec": {
   "display_name": "Python 3.9.10 64-bit ('.venv': venv)",
   "language": "python",
   "name": "python3"
  },
  "language_info": {
   "codemirror_mode": {
    "name": "ipython",
    "version": 3
   },
   "file_extension": ".py",
   "mimetype": "text/x-python",
   "name": "python",
   "nbconvert_exporter": "python",
   "pygments_lexer": "ipython3",
   "version": "3.9.10"
  },
  "orig_nbformat": 4
 },
 "nbformat": 4,
 "nbformat_minor": 2
}
