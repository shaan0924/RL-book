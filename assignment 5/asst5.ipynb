{
 "cells": [
  {
   "cell_type": "markdown",
   "metadata": {},
   "source": [
    "# CME 241 Assignment 5"
   ]
  },
  {
   "cell_type": "markdown",
   "metadata": {},
   "source": [
    "## Shaan Patel"
   ]
  },
  {
   "cell_type": "markdown",
   "metadata": {},
   "source": [
    "### Question 1"
   ]
  },
  {
   "cell_type": "code",
   "execution_count": 2,
   "metadata": {},
   "outputs": [],
   "source": [
    "from typing import Tuple, Sequence, Iterator, List\n",
    "import numpy as np\n",
    "import matplotlib.pyplot as plt\n",
    "\n",
    "Tuple5 = Tuple[float, float, float, float, float]"
   ]
  },
  {
   "cell_type": "code",
   "execution_count": null,
   "metadata": {},
   "outputs": [],
   "source": [
    "def cubic_spline(\n",
    "    num_pts: int, \n",
    "    data: List[Tuple[float,float]]\n",
    "    ) -> List[Tuple5]:\n",
    "\n",
    "    n = num_pts - 1\n",
    "\n",
    "    a = []*num_pts\n",
    "    for i in range(num_pts):\n",
    "        a[i] = data[i[1]]\n",
    "    \n",
    "    b = []*n\n",
    "    d = []*n\n",
    "\n",
    "    h = []*n\n",
    "    for i in range(n):\n",
    "        h[i] = data[(i+1)[0]] - data[i[0]]\n",
    "\n",
    "    alpha = []*n\n",
    "    for i in range(1,n-1):\n",
    "        alpha[i] = (3/h[i])*(a[i+1] - a[i]) - (3/h[i-1])*(a[i] - a[i - 1])\n",
    "    \n",
    "    c = []*num_pts\n",
    "    l = []*num_pts\n",
    "    mu = []*num_pts\n",
    "    z = []*num_pts\n",
    "\n",
    "    l[0] = 1\n",
    "    mu[0] = 0\n",
    "    z[0] = 0\n",
    "\n",
    "    for i in range(1,n - 1):\n",
    "        l[i] = 2*(data[(i+1)[0]] - data[(i-1)[0]]) - h[i-1]*mu[i-1]\n",
    "        mu[i] = h[i]/l[i]\n",
    "        z[i] = (alpha[i] - h[i-1]*z[i-1])/l[i]\n",
    "    \n",
    "    l[n] = 1\n",
    "    z[n] = 0\n",
    "    c[n] = 0\n",
    "\n",
    "    for i in range(n-1,-1):\n",
    "        c[i] = z[i] - mu[i]*c[i+1]\n",
    "        b[i] = (a[i+1] - a[i])/h[i] - (h[i]*(c[i+1] - 2*c[i]))/3\n",
    "        d[i] = (c[i+1] - c[i])/(3*h[i])\n",
    "    \n",
    "    output : List[Tuple5]\n",
    "    for i in range(n):\n",
    "        output[i] = Tuple5(a[i], b[i], c[i], d[i], data[i[0]])\n",
    "\n",
    "    return output\n"
   ]
  }
 ],
 "metadata": {
  "interpreter": {
   "hash": "579dcdfb899fc187fdf97538744cc3a387eca9f5084bb8d1591af8d2d48fab3d"
  },
  "kernelspec": {
   "display_name": "Python 3.9.10 64-bit ('.venv': venv)",
   "language": "python",
   "name": "python3"
  },
  "language_info": {
   "codemirror_mode": {
    "name": "ipython",
    "version": 3
   },
   "file_extension": ".py",
   "mimetype": "text/x-python",
   "name": "python",
   "nbconvert_exporter": "python",
   "pygments_lexer": "ipython3",
   "version": "3.9.10"
  },
  "orig_nbformat": 4
 },
 "nbformat": 4,
 "nbformat_minor": 2
}
