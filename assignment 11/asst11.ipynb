{
 "cells": [
  {
   "cell_type": "markdown",
   "metadata": {},
   "source": [
    "# CME 241 Assignment 11"
   ]
  },
  {
   "cell_type": "markdown",
   "metadata": {},
   "source": [
    "## Shaan Patel"
   ]
  },
  {
   "cell_type": "markdown",
   "metadata": {},
   "source": [
    "### Question 1"
   ]
  },
  {
   "cell_type": "code",
   "execution_count": 2,
   "metadata": {},
   "outputs": [],
   "source": [
    "from typing import Iterable, Iterator, TypeVar, Mapping\n",
    "import rl.markov_process as mp\n",
    "from rl.returns import returns\n",
    "from collections import defaultdict"
   ]
  },
  {
   "cell_type": "code",
   "execution_count": 15,
   "metadata": {},
   "outputs": [],
   "source": [
    "S = TypeVar('S')\n",
    "\n",
    "\n",
    "def tabular_mc(\n",
    "    traces: Iterable[Iterable[mp.TransitionStep[S]]],\n",
    "    approx_0: Mapping[S,float],\n",
    "    gamma: float,\n",
    "    episode_length_tolerance: float = 1e-6\n",
    ") -> Iterator[Mapping[S,float]]:\n",
    "\n",
    "    counts = defaultdict(lambda: 0)\n",
    "\n",
    "    episodes: Iterator[Iterator[mp.ReturnStep[S]]] =\\\n",
    "        (returns(trace, gamma, episode_length_tolerance) for trace in traces)\n",
    "    f = approx_0\n",
    "    yield f\n",
    "\n",
    "    for episode in episodes:\n",
    "        for entry in episode:\n",
    "            s = entry.state\n",
    "            r = entry.return_\n",
    "            counts[s] += 1\n",
    "            f[s] += (1/counts[s])*(r - f[s])\n",
    "        yield f\n",
    "\n"
   ]
  },
  {
   "cell_type": "markdown",
   "metadata": {},
   "source": [
    "### Question 2"
   ]
  },
  {
   "cell_type": "code",
   "execution_count": 4,
   "metadata": {},
   "outputs": [],
   "source": [
    "def tabular_td(\n",
    "    transitions: Iterable[mp.TransitionStep[S]],\n",
    "    approx_0: Mapping[S,float],\n",
    "    gamma: float\n",
    ") -> Iterator[Mapping[S,float]]:\n",
    "\n",
    "    counts = defaultdict(lambda: 0)\n",
    "    f = approx_0\n",
    "    yield f\n",
    "\n",
    "    for t in transitions:\n",
    "        counts[t.state] += 1\n",
    "        f[t.state] += (1/counts[t.state])*(t.reward + gamma*f[t.next_state] - f[t.state])\n",
    "        yield f"
   ]
  },
  {
   "cell_type": "markdown",
   "metadata": {},
   "source": [
    "### Question 3"
   ]
  },
  {
   "cell_type": "code",
   "execution_count": 12,
   "metadata": {},
   "outputs": [],
   "source": [
    "from rl.chapter2.simple_inventory_mrp import SimpleInventoryMRPFinite\n",
    "from rl.distribution import Choose\n",
    "import itertools\n",
    "from pprint import pprint"
   ]
  },
  {
   "cell_type": "code",
   "execution_count": 6,
   "metadata": {},
   "outputs": [
    {
     "name": "stdout",
     "output_type": "stream",
     "text": [
      "{NonTerminal(state=InventoryState(on_hand=0, on_order=0)): -35.511,\n",
      " NonTerminal(state=InventoryState(on_hand=0, on_order=1)): -27.932,\n",
      " NonTerminal(state=InventoryState(on_hand=0, on_order=2)): -28.345,\n",
      " NonTerminal(state=InventoryState(on_hand=1, on_order=0)): -28.932,\n",
      " NonTerminal(state=InventoryState(on_hand=1, on_order=1)): -29.345,\n",
      " NonTerminal(state=InventoryState(on_hand=2, on_order=0)): -30.345}\n"
     ]
    }
   ],
   "source": [
    "approx_0 = defaultdict(lambda: 0)\n",
    "\n",
    "user_capacity = 2\n",
    "user_poisson_lambda = 1.0\n",
    "user_holding_cost = 1.0\n",
    "user_stockout_cost = 10.0\n",
    "\n",
    "user_gamma = 0.9\n",
    "\n",
    "si_mrp = SimpleInventoryMRPFinite(\n",
    "    capacity=user_capacity,\n",
    "    poisson_lambda=user_poisson_lambda,\n",
    "    holding_cost=user_holding_cost,\n",
    "    stockout_cost=user_stockout_cost\n",
    ")\n",
    "\n",
    "si_mrp.display_value_function(gamma = user_gamma)\n"
   ]
  },
  {
   "cell_type": "code",
   "execution_count": 19,
   "metadata": {},
   "outputs": [
    {
     "name": "stdout",
     "output_type": "stream",
     "text": [
      "{NonTerminal(state=InventoryState(on_hand=0, on_order=0)): -35.5035978132024,\n",
      " NonTerminal(state=InventoryState(on_hand=0, on_order=1)): -27.942053750561858,\n",
      " NonTerminal(state=InventoryState(on_hand=0, on_order=2)): -28.345518409109868,\n",
      " NonTerminal(state=InventoryState(on_hand=1, on_order=0)): -28.9437094000773,\n",
      " NonTerminal(state=InventoryState(on_hand=1, on_order=1)): -29.356687017040663,\n",
      " NonTerminal(state=InventoryState(on_hand=2, on_order=0)): -30.352151921795816}\n"
     ]
    }
   ],
   "source": [
    "traces = si_mrp.reward_traces(Choose(si_mrp.non_terminal_states))\n",
    "\n",
    "approx = defaultdict(lambda: 0)\n",
    "\n",
    "it = tabular_mc(traces, approx, user_gamma)\n",
    "\n",
    "num_traces = 2000\n",
    "\n",
    "val_list = list(itertools.islice(it,num_traces))\n",
    "\n",
    "last = val_list[-1]\n",
    "\n",
    "pprint({s: approx[s] for s in si_mrp.non_terminal_states})"
   ]
  },
  {
   "cell_type": "code",
   "execution_count": null,
   "metadata": {},
   "outputs": [],
   "source": []
  }
 ],
 "metadata": {
  "interpreter": {
   "hash": "579dcdfb899fc187fdf97538744cc3a387eca9f5084bb8d1591af8d2d48fab3d"
  },
  "kernelspec": {
   "display_name": "Python 3.9.10 ('.venv': venv)",
   "language": "python",
   "name": "python3"
  },
  "language_info": {
   "codemirror_mode": {
    "name": "ipython",
    "version": 3
   },
   "file_extension": ".py",
   "mimetype": "text/x-python",
   "name": "python",
   "nbconvert_exporter": "python",
   "pygments_lexer": "ipython3",
   "version": "3.9.10"
  },
  "orig_nbformat": 4
 },
 "nbformat": 4,
 "nbformat_minor": 2
}
