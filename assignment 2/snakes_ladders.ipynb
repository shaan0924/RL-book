{
 "cells": [
  {
   "cell_type": "code",
   "execution_count": 10,
   "metadata": {},
   "outputs": [],
   "source": [
    "from rl.distribution import Categorical\n",
    "from rl.markov_process import (FiniteMarkovProcess, MarkovProcess,\n",
    "                                MarkovRewardProcess, NonTerminal, State)"
   ]
  },
  {
   "cell_type": "code",
   "execution_count": 11,
   "metadata": {},
   "outputs": [],
   "source": [
    "class SnakesAndLadders(FiniteMarkovProcess[int]):\n",
    "    def __init__(self, p: float):\n",
    "        irregulars = set(1,4,9,16,21,28,36,47,49,51,56,62,64,71,80,87,93,95,98)\n",
    "        change = {1:38, 4:14, 9:31, 16:6,\n",
    "                21:42, 28:84, 36:44, 47:26, \n",
    "                49:11, 51:67, 56:53, 62:19,\n",
    "                64:60, 71:91, 80:100, 87:24,\n",
    "                93:73, 95:75, 98:78, 101:100,\n",
    "                102:100, 103:100, 104:100, 105:100}\n",
    "        regulars = set(range(1,100))\n",
    "        regulars = regulars.difference(irregulars)\n",
    "        transition_map = {\n",
    "            b : Categorical({(b+x if b+x in regulars else change(b+x)): (1/6)\n",
    "                for x in range(1,6)}\n",
    "            ) for b in range(0,99)\n",
    "        }\n",
    "        super().__init__(transition_map)"
   ]
  }
 ],
 "metadata": {
  "interpreter": {
   "hash": "579dcdfb899fc187fdf97538744cc3a387eca9f5084bb8d1591af8d2d48fab3d"
  },
  "kernelspec": {
   "display_name": "Python 3.9.9 64-bit ('.venv': venv)",
   "language": "python",
   "name": "python3"
  },
  "language_info": {
   "codemirror_mode": {
    "name": "ipython",
    "version": 3
   },
   "file_extension": ".py",
   "mimetype": "text/x-python",
   "name": "python",
   "nbconvert_exporter": "python",
   "pygments_lexer": "ipython3",
   "version": "3.9.9"
  },
  "orig_nbformat": 4
 },
 "nbformat": 4,
 "nbformat_minor": 2
}
