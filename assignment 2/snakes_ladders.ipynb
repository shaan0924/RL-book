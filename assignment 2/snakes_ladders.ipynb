{
 "cells": [
  {
   "cell_type": "markdown",
   "metadata": {},
   "source": [
    "# CME 241 Assignment 2\n",
    "## Shaan Patel\n"
   ]
  },
  {
   "cell_type": "markdown",
   "metadata": {},
   "source": [
    "### Question 1"
   ]
  },
  {
   "cell_type": "markdown",
   "metadata": {},
   "source": [
    "The state space for the Snakes and Ladders game is all numbers from\n",
    "0 to 100. However, with the addition of the snakes and ladders, we remove\n",
    "certain numbers and replace them with their destination tile (i.e. the 1\n",
    "tile has a ladder to 38, so 1 is removed).\n",
    "\n",
    "In terms of transition probabilities, the distributions all follow the \n",
    "distribution of a 6 sided dice roll. However, the snakes and ladders lead to\n",
    "different results for each space. For example, the distribution at state 0 is:\n",
    "\n",
    "```math\n",
    "38, 1/6\n",
    "2, 1/6\n",
    "3, 1/6\n",
    "14, 1/6\n",
    "5, 1/6\n",
    "6, 1/6\n",
    "```\n",
    "\n",
    "More generally, let us assume a ladder going to $s'$ is denoted as $l$ and a snake going to $s'$ is $n$. Then, given we are on space $s$, the probability of landing on $s'$ is:\n",
    "\n",
    "\n",
    "$$1/6,  l||n||s' - s \\le 6, s < l||n||s'$$\n",
    "$$1/3,  (l,s') || (n,s) - s \\le 6, s < (l,s') || (n,s') $$\n",
    "$$1/2, (l,n,s') - s \\le 6, s < l,n,s' $$\n",
    "\n",
    "These distributions show that if $s$ and $s'$ are within six spaces of each other, then the probability of achieving $s'$ is 1/6. This probability doubles if a ladder or snake are also within six spaces of $s$, and triples if all three are within one dice roll of $s$. If all three spaces are below $s$ or greater than 6 away from $s$, the probability is 0.\n",
    "\n",
    "In the current implementation of the game, however, there is no space that has both a ladder and snake pointing to it, so the third line is irrelevant. In addition, there are only two occasions in which the probablility is 1/3; going to space 53 (snake at space 56) and going to space 60 (snake at space 64). Aside from these edge cases, the probability of landing on $s'$ given that we are on $s$ is 1/6 if $s$ is within 6 spaces of $s'$, its corresponding ladder, or its corresponding snake.\n"
   ]
  },
  {
   "cell_type": "markdown",
   "metadata": {},
   "source": [
    "### Question 2"
   ]
  },
  {
   "cell_type": "code",
   "execution_count": 3,
   "metadata": {},
   "outputs": [],
   "source": [
    "import itertools\n",
    "import matplotlib.pyplot as plt\n",
    "from rl.distribution import Categorical\n",
    "from rl.markov_process import (FiniteMarkovProcess, MarkovProcess,\n",
    "                                MarkovRewardProcess, NonTerminal, State)\n"
   ]
  },
  {
   "cell_type": "code",
   "execution_count": 18,
   "metadata": {},
   "outputs": [],
   "source": [
    "class SnakesAndLadders(FiniteMarkovProcess[int]):\n",
    "    def __init__(self, p):\n",
    "        irregulars = {1,4,9,16,21,28,36,47,49,51,56,62,64,71,80,87,93,95,98}\n",
    "        change = {1:38, 4:14, 9:31, 16:6,\n",
    "                21:42, 28:84, 36:44, 47:26, \n",
    "                49:11, 51:67, 56:53, 62:19,\n",
    "                64:60, 71:91, 80:100, 87:24,\n",
    "                93:73, 95:75, 98:78}\n",
    "        regulars = set(range(0,106))\n",
    "        regulars = regulars.difference(irregulars)\n",
    "        transition_map = {\n",
    "            b : Categorical({(b+x if b+x in regulars else change[b+x]): (1/p)\n",
    "                for x in range(1,p)}\n",
    "            ) for b in range(0,100)\n",
    "        }\n",
    "        super().__init__(transition_map)"
   ]
  },
  {
   "cell_type": "code",
   "execution_count": 19,
   "metadata": {},
   "outputs": [],
   "source": [
    "simulation = SnakesAndLadders(6)\n",
    "startstate = simulation.transition(NonTerminal(0))\n",
    "tracer = simulation.traces(startstate)\n",
    "runcounter = itertools.islice(tracer, 10000)\n",
    "rundata = []\n",
    "for run in runcounter:\n",
    "    count = sum(1 for i in run)\n",
    "    rundata.append(count)\n",
    "\n"
   ]
  },
  {
   "cell_type": "code",
   "execution_count": 20,
   "metadata": {},
   "outputs": [
    {
     "data": {
      "image/png": "[encoded data removed]",
      "text/plain": [
       "<Figure size 720x504 with 1 Axes>"
      ]
     },
     "metadata": {
      "needs_background": "light"
     },
     "output_type": "display_data"
    }
   ],
   "source": [
    "fig, ax = plt.subplots(1,1, figsize = (10,7), tight_layout = True)\n",
    "ax.hist(rundata, bins = 7)\n",
    "plt.show()"
   ]
  }
 ],
 "metadata": {
  "interpreter": {
   "hash": "579dcdfb899fc187fdf97538744cc3a387eca9f5084bb8d1591af8d2d48fab3d"
  },
  "kernelspec": {
   "display_name": "Python 3.9.9 64-bit ('.venv': venv)",
   "language": "python",
   "name": "python3"
  },
  "language_info": {
   "codemirror_mode": {
    "name": "ipython",
    "version": 3
   },
   "file_extension": ".py",
   "mimetype": "text/x-python",
   "name": "python",
   "nbconvert_exporter": "python",
   "pygments_lexer": "ipython3",
   "version": "3.9.9"
  },
  "orig_nbformat": 4
 },
 "nbformat": 4,
 "nbformat_minor": 2
}
