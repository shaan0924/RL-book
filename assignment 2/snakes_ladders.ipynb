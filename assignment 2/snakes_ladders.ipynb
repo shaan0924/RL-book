{
 "cells": [
  {
   "cell_type": "markdown",
   "metadata": {},
   "source": [
    "# CME 241 Assignment 2\n",
    "## Shaan Patel\n"
   ]
  },
  {
   "cell_type": "markdown",
   "metadata": {},
   "source": [
    "### Question 1"
   ]
  },
  {
   "cell_type": "markdown",
   "metadata": {},
   "source": [
    "The state space for the Snakes and Ladders game is all numbers from\n",
    "0 to 100. However, with the addition of the snakes and ladders, we remove\n",
    "certain numbers and replace them with their destination tile (i.e. the 1\n",
    "tile has a ladder to 38, so 1 is removed).\n",
    "\n",
    "In terms of transition probabilities, the distributions all follow the \n",
    "distribution of a 6 sided dice roll. However, the snakes and ladders lead to\n",
    "different results for each space. For example, the distribution at state 0 is:\n",
    "\n",
    "```math\n",
    "38, 1/6\n",
    "2, 1/6\n",
    "3, 1/6\n",
    "14, 1/6\n",
    "5, 1/6\n",
    "6, 1/6\n",
    "```\n",
    "\n",
    "More generally, let us assume a ladder going to $s'$ is denoted as $l$ and a snake going to $s'$ is $n$. Then, given we are on space $s$, the probability of landing on $s'$ is:\n",
    "\n",
    "\n",
    "$$1/6,  l||n||s' - s \\le 6, s < l||n||s'$$\n",
    "$$1/3,  (l,s') || (n,s) - s \\le 6, s < (l,s') || (n,s') $$\n",
    "$$1/2, (l,n,s') - s \\le 6, s < l,n,s' $$\n",
    "\n",
    "These distributions show that if $s$ and $s'$ are within six spaces of each other, then the probability of achieving $s'$ is 1/6. This probability doubles if a ladder or snake are also within six spaces of $s$, and triples if all three are within one dice roll of $s$. If all three spaces are below $s$ or greater than 6 away from $s$, the probability is 0.\n",
    "\n",
    "In the current implementation of the game, however, there is no space that has both a ladder and snake pointing to it, so the third line is irrelevant. In addition, there are only two occasions in which the probablility is 1/3; going to space 53 (snake at space 56) and going to space 60 (snake at space 64). Aside from these edge cases, the probability of landing on $s'$ given that we are on $s$ is 1/6 if $s$ is within 6 spaces of $s'$, its corresponding ladder, or its corresponding snake.\n"
   ]
  },
  {
   "cell_type": "markdown",
   "metadata": {},
   "source": [
    "### Question 2"
   ]
  },
  {
   "cell_type": "code",
   "execution_count": 12,
   "metadata": {},
   "outputs": [],
   "source": [
    "import itertools\n",
    "import math\n",
    "import matplotlib.pyplot as plt\n",
    "from typing import Tuple, Dict, Mapping\n",
    "from rl.distribution import Categorical, FiniteDistribution\n",
    "from rl.markov_process import (FiniteMarkovProcess, MarkovProcess,\n",
    "                                MarkovRewardProcess, FiniteMarkovRewardProcess,\n",
    "                                NonTerminal, State)\n"
   ]
  },
  {
   "cell_type": "code",
   "execution_count": 2,
   "metadata": {},
   "outputs": [],
   "source": [
    "class SnakesAndLadders(FiniteMarkovProcess[int]):\n",
    "    def __init__(self, p):\n",
    "        irregulars = {1,4,9,16,21,28,36,47,49,51,56,62,64,71,80,87,93,95,98}\n",
    "        change = {1:38, 4:14, 9:31, 16:6,\n",
    "                21:42, 28:84, 36:44, 47:26, \n",
    "                49:11, 51:67, 56:53, 62:19,\n",
    "                64:60, 71:91, 80:100, 87:24,\n",
    "                93:73, 95:75, 98:78}\n",
    "        regulars = set(range(0,106))\n",
    "        regulars = regulars.difference(irregulars)\n",
    "        transition_map = {\n",
    "            b : Categorical({(b+x if b+x in regulars else change[b+x]): (1/p)\n",
    "                for x in range(1,p)}\n",
    "            ) for b in range(0,99)\n",
    "        }\n",
    "        super().__init__(transition_map)"
   ]
  },
  {
   "cell_type": "code",
   "execution_count": 3,
   "metadata": {},
   "outputs": [],
   "source": [
    "simulation = SnakesAndLadders(6)\n",
    "startstate = simulation.transition(NonTerminal(0))\n",
    "tracer = simulation.traces(startstate)\n",
    "runcounter = itertools.islice(tracer, 10000)\n",
    "rundata = []\n",
    "for run in runcounter:\n",
    "    count = sum(1 for i in run)\n",
    "    rundata.append(count)\n",
    "\n"
   ]
  },
  {
   "cell_type": "code",
   "execution_count": 4,
   "metadata": {},
   "outputs": [
    {
     "data": {
      "image/png": "[encoded data removed]",
      "text/plain": [
       "<Figure size 720x504 with 1 Axes>"
      ]
     },
     "metadata": {
      "needs_background": "light"
     },
     "output_type": "display_data"
    }
   ],
   "source": [
    "fig, ax = plt.subplots(1,1, figsize = (10,7), tight_layout = True)\n",
    "ax.hist(rundata, bins = 7)\n",
    "plt.show()"
   ]
  },
  {
   "cell_type": "markdown",
   "metadata": {},
   "source": [
    "### Question 3"
   ]
  },
  {
   "cell_type": "markdown",
   "metadata": {},
   "source": [
    "In the frog puzzle, we need to figure out the expected number of jumps it will take the frog to cross a river with $n - 1$ lilypads between itself and the other bank."
   ]
  },
  {
   "cell_type": "markdown",
   "metadata": {},
   "source": [
    "If the frog is $n$ spaces away, we can see that there is a recurrence relation between $E[n]$ and the expected value of the space it lands on.\n",
    "\n",
    "$$ E[n] = 1 + \\frac{1}{n} \\sum_{i=1}^{n-1} E[i]$$\n",
    "\n",
    "This is the sum of expected jumps from each space it lands on plus the one jump to get there.\n",
    "In the case of $n - 1$ spaces, there is a similar relation:\n",
    "\n",
    "$$ E[n - 1] = 1 + \\frac{1}{n-1}\\sum_{i=1}^{n-2} E[i] $$\n",
    "\n",
    "As a result, we can see that each space is a Markov process with transition probability of $1/n$. If we scale and subtract these two equations, we get the following:\n",
    "\n",
    "$$ nE[n] - (n-1)E[n-1] = n - (n-1) + E[n-1] $$\n",
    "\n",
    "$$ = 1 + E[n - 1] $$\n",
    "\n",
    "When solving for $E[n]$, we get:\n",
    "\n",
    "$$ E[n] = \\frac{1}{n} + E[n-1] $$\n",
    "\n",
    "This is the expected value form of the harmonic series $\\sum_{i=1}^n \\frac{1}{i} $. While this series does not converge and has no closed form solution, it does diverge very slowly, and its partial sums can be found through summation. For the $n = 10$ case, the expected number of jumps is equal to the 10th harmonic number (i.e. $\\sum_{i=1}^{10} \\frac{1}{i} $, or approximately 2.928968. In the general case, the expected number of jumps for the frog is the n'th harmonic number.\n",
    "\n",
    "\n",
    "\n",
    "\n",
    "\n"
   ]
  },
  {
   "cell_type": "markdown",
   "metadata": {},
   "source": [
    "### Question 4"
   ]
  },
  {
   "cell_type": "code",
   "execution_count": 16,
   "metadata": {},
   "outputs": [],
   "source": [
    "class SnakeLadderReward(FiniteMarkovRewardProcess[int]):\n",
    "    def __init__(self, p: int, startreward: int):\n",
    "        self.p: int = p\n",
    "        self.startreward: int = startreward\n",
    "        super().__init__(self.get_transition_reward_map())\n",
    "    \n",
    "    \n",
    "    def get_transition_reward_map(self) -> \\\n",
    "            Mapping[\n",
    "                int,\n",
    "                FiniteDistribution[Tuple[int, int]]\n",
    "            ]:\n",
    "        irregulars = {1,4,9,16,21,28,36,47,49,51,56,62,64,71,80,87,93,95,98}\n",
    "        change = {1:38, 4:14, 9:31, 16:6,\n",
    "                21:42, 28:84, 36:44, 47:26, \n",
    "                49:11, 51:67, 56:53, 62:19,\n",
    "                64:60, 71:91, 80:100, 87:24,\n",
    "                93:73, 95:75, 98:78}\n",
    "        regulars = set(range(0,106))\n",
    "        regulars = regulars.difference(irregulars)\n",
    "        d = {\n",
    "            b: Categorical({(b+x if b+x in regulars else change[b+x], 1): (1/self.p)\n",
    "                for x in range(1, self.p)}\n",
    "            ) for b in range(0,100) \n",
    "        }\n",
    "            \n",
    "\n",
    "        self.transition_map = {\n",
    "            b : Categorical({(b+x if b+x in regulars else change[b+x]): (1/self.p)\n",
    "                for x in range(1,self.p)}\n",
    "            ) for b in range(0,100)\n",
    "        }\n",
    "\n",
    "        return d\n",
    "        \n",
    "                    "
   ]
  },
  {
   "cell_type": "code",
   "execution_count": 17,
   "metadata": {},
   "outputs": [
    {
     "name": "stdout",
     "output_type": "stream",
     "text": [
      "{NonTerminal(state=2): 43.886,\n",
      " NonTerminal(state=1): 44.047,\n",
      " NonTerminal(state=0): 43.128,\n",
      " NonTerminal(state=21): 38.159,\n",
      " NonTerminal(state=22): 38.175,\n",
      " NonTerminal(state=23): 35.736,\n",
      " NonTerminal(state=24): 36.651,\n",
      " NonTerminal(state=25): 37.364,\n",
      " NonTerminal(state=26): 37.87,\n",
      " NonTerminal(state=15): 40.458,\n",
      " NonTerminal(state=16): 39.307,\n",
      " NonTerminal(state=17): 39.119,\n",
      " NonTerminal(state=18): 38.555,\n",
      " NonTerminal(state=19): 38.237,\n",
      " NonTerminal(state=20): 38.092,\n",
      " NonTerminal(state=8): 42.815,\n",
      " NonTerminal(state=7): 43.083,\n",
      " NonTerminal(state=6): 43.289,\n",
      " NonTerminal(state=5): 43.419,\n",
      " NonTerminal(state=4): 43.601,\n",
      " NonTerminal(state=3): 43.708,\n",
      " NonTerminal(state=9): 42.922,\n",
      " NonTerminal(state=10): 42.511,\n",
      " NonTerminal(state=11): 42.641,\n",
      " NonTerminal(state=12): 42.054,\n",
      " NonTerminal(state=13): 41.471,\n",
      " NonTerminal(state=14): 40.932,\n",
      " NonTerminal(state=87): 16.235,\n",
      " NonTerminal(state=88): 16.873,\n",
      " NonTerminal(state=89): 15.894,\n",
      " NonTerminal(state=90): 16.054,\n",
      " NonTerminal(state=91): 14.438,\n",
      " NonTerminal(state=92): 12.915,\n",
      " NonTerminal(state=93): 13.002,\n",
      " NonTerminal(state=94): 11.002,\n",
      " NonTerminal(state=95): 7.632,\n",
      " NonTerminal(state=96): 6.36,\n",
      " NonTerminal(state=97): 5.3,\n",
      " NonTerminal(state=98): 1.2,\n",
      " NonTerminal(state=99): 1.0,\n",
      " NonTerminal(state=75): 16.85,\n",
      " NonTerminal(state=76): 18.161,\n",
      " NonTerminal(state=77): 19.585,\n",
      " NonTerminal(state=78): 20.499,\n",
      " NonTerminal(state=79): 21.005,\n",
      " NonTerminal(state=80): 25.464,\n",
      " NonTerminal(state=86): 20.982,\n",
      " NonTerminal(state=85): 22.291,\n",
      " NonTerminal(state=84): 23.538,\n",
      " NonTerminal(state=81): 24.717,\n",
      " NonTerminal(state=83): 25.067,\n",
      " NonTerminal(state=82): 26.706,\n",
      " NonTerminal(state=33): 39.932,\n",
      " NonTerminal(state=34): 39.699,\n",
      " NonTerminal(state=35): 39.451,\n",
      " NonTerminal(state=36): 39.399,\n",
      " NonTerminal(state=37): 39.088,\n",
      " NonTerminal(state=38): 38.697,\n",
      " NonTerminal(state=69): 19.801,\n",
      " NonTerminal(state=70): 19.31,\n",
      " NonTerminal(state=71): 20.054,\n",
      " NonTerminal(state=72): 19.976,\n",
      " NonTerminal(state=73): 20.063,\n",
      " NonTerminal(state=74): 20.22,\n",
      " NonTerminal(state=63): 22.577,\n",
      " NonTerminal(state=64): 20.873,\n",
      " NonTerminal(state=65): 20.612,\n",
      " NonTerminal(state=66): 19.583,\n",
      " NonTerminal(state=67): 19.649,\n",
      " NonTerminal(state=68): 19.718,\n",
      " NonTerminal(state=62): 23.149,\n",
      " NonTerminal(state=61): 26.867,\n",
      " NonTerminal(state=60): 28.323,\n",
      " NonTerminal(state=59): 30.001,\n",
      " NonTerminal(state=58): 30.201,\n",
      " NonTerminal(state=57): 31.726,\n",
      " NonTerminal(state=56): 30.424,\n",
      " NonTerminal(state=55): 31.588,\n",
      " NonTerminal(state=54): 32.241,\n",
      " NonTerminal(state=53): 32.689,\n",
      " NonTerminal(state=52): 33.061,\n",
      " NonTerminal(state=51): 33.395,\n",
      " NonTerminal(state=50): 30.845,\n",
      " NonTerminal(state=49): 30.697,\n",
      " NonTerminal(state=48): 32.777,\n",
      " NonTerminal(state=47): 32.795,\n",
      " NonTerminal(state=46): 33.756,\n",
      " NonTerminal(state=45): 36.578,\n",
      " NonTerminal(state=44): 37.724,\n",
      " NonTerminal(state=43): 36.741,\n",
      " NonTerminal(state=42): 37.534,\n",
      " NonTerminal(state=41): 37.467,\n",
      " NonTerminal(state=40): 38.209,\n",
      " NonTerminal(state=39): 38.535,\n",
      " NonTerminal(state=32): 40.179,\n",
      " NonTerminal(state=31): 40.397,\n",
      " NonTerminal(state=30): 40.931,\n",
      " NonTerminal(state=29): 41.228,\n",
      " NonTerminal(state=28): 41.533,\n",
      " NonTerminal(state=27): 38.255}\n"
     ]
    }
   ],
   "source": [
    "reward = SnakeLadderReward(6, 0)\n",
    "reward.display_value_function(1)\n"
   ]
  },
  {
   "cell_type": "markdown",
   "metadata": {},
   "source": [
    "We made the rewards in the Markov Reward Process 1 such that each time a state was entered, the total rewards would increment. This would cause the calculation of the value function (expected reward given state $s$) to calculate the expected number of dice rolls from that state to the terminal state (100)."
   ]
  }
 ],
 "metadata": {
  "interpreter": {
   "hash": "579dcdfb899fc187fdf97538744cc3a387eca9f5084bb8d1591af8d2d48fab3d"
  },
  "kernelspec": {
   "display_name": "Python 3.9.9 64-bit ('.venv': venv)",
   "language": "python",
   "name": "python3"
  },
  "language_info": {
   "codemirror_mode": {
    "name": "ipython",
    "version": 3
   },
   "file_extension": ".py",
   "mimetype": "text/x-python",
   "name": "python",
   "nbconvert_exporter": "python",
   "pygments_lexer": "ipython3",
   "version": "3.9.9"
  },
  "orig_nbformat": 4
 },
 "nbformat": 4,
 "nbformat_minor": 2
}
