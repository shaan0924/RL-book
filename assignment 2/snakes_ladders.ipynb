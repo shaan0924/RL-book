{
 "cells": [
  {
   "cell_type": "code",
   "execution_count": 76,
   "metadata": {},
   "outputs": [],
   "source": [
    "import itertools\n",
    "import matplotlib.pyplot as plt\n",
    "from rl.distribution import Categorical\n",
    "from rl.markov_process import (FiniteMarkovProcess, MarkovProcess,\n",
    "                                MarkovRewardProcess, NonTerminal, State)\n"
   ]
  },
  {
   "cell_type": "code",
   "execution_count": 34,
   "metadata": {},
   "outputs": [],
   "source": [
    "class SnakesAndLadders(FiniteMarkovProcess[int]):\n",
    "    def __init__(self, p):\n",
    "        irregulars = {1,4,9,16,21,28,36,47,49,51,56,62,64,71,80,87,93,95,98}\n",
    "        change = {1:38, 4:14, 9:31, 16:6,\n",
    "                21:42, 28:84, 36:44, 47:26, \n",
    "                49:11, 51:67, 56:53, 62:19,\n",
    "                64:60, 71:91, 80:100, 87:24,\n",
    "                93:73, 95:75, 98:78}\n",
    "        regulars = set(range(0,101))\n",
    "        regulars = regulars.difference(irregulars)\n",
    "        transition_map = {\n",
    "            b : Categorical({(b+x if b+x in regulars else change[b+x]): (1/p)\n",
    "                for x in range(1,p)}\n",
    "            ) for b in range(0,99)\n",
    "        }\n",
    "        super().__init__(transition_map)"
   ]
  },
  {
   "cell_type": "code",
   "execution_count": 79,
   "metadata": {},
   "outputs": [],
   "source": [
    "simulation = SnakesAndLadders(6)\n",
    "startstate = simulation.transition(NonTerminal(0))\n",
    "tracer = simulation.traces(startstate)\n",
    "runcounter = itertools.islice(tracer, 10000)\n",
    "rundata = []\n",
    "for run in runcounter:\n",
    "    count = sum(1 for i in run)\n",
    "    rundata.append(count)\n",
    "\n"
   ]
  },
  {
   "cell_type": "code",
   "execution_count": 84,
   "metadata": {},
   "outputs": [
    {
     "data": {
      "text/plain": [
       "(array([6.310e+03, 2.598e+03, 7.720e+02, 2.330e+02, 6.600e+01, 1.500e+01,\n",
       "        6.000e+00]),\n",
       " array([  7.        ,  44.28571429,  81.57142857, 118.85714286,\n",
       "        156.14285714, 193.42857143, 230.71428571, 268.        ]),\n",
       " <BarContainer object of 7 artists>)"
      ]
     },
     "execution_count": 84,
     "metadata": {},
     "output_type": "execute_result"
    },
    {
     "data": {
      "image/png": "[encoded data removed]",
      "text/plain": [
       "<Figure size 720x504 with 1 Axes>"
      ]
     },
     "metadata": {
      "needs_background": "light"
     },
     "output_type": "display_data"
    }
   ],
   "source": [
    "fig, ax = plt.subplots(1,1, figsize = (10,7), tight_layout = True)\n",
    "ax.hist(rundata, bins = 7)"
   ]
  }
 ],
 "metadata": {
  "interpreter": {
   "hash": "579dcdfb899fc187fdf97538744cc3a387eca9f5084bb8d1591af8d2d48fab3d"
  },
  "kernelspec": {
   "display_name": "Python 3.9.9 64-bit ('.venv': venv)",
   "language": "python",
   "name": "python3"
  },
  "language_info": {
   "codemirror_mode": {
    "name": "ipython",
    "version": 3
   },
   "file_extension": ".py",
   "mimetype": "text/x-python",
   "name": "python",
   "nbconvert_exporter": "python",
   "pygments_lexer": "ipython3",
   "version": "3.9.9"
  },
  "orig_nbformat": 4
 },
 "nbformat": 4,
 "nbformat_minor": 2
}
