{
 "cells": [
  {
   "cell_type": "markdown",
   "metadata": {},
   "source": [
    "# CME 241 Assignment 2\n",
    "## Shaan Patel\n"
   ]
  },
  {
   "cell_type": "markdown",
   "metadata": {},
   "source": [
    "### Question 1"
   ]
  },
  {
   "cell_type": "markdown",
   "metadata": {},
   "source": [
    "The state space for the Snakes and Ladders game is all numbers from\n",
    "0 to 100. However, with the addition of the snakes and ladders, we remove\n",
    "certain numbers and replace them with their destination tile (i.e. the 1\n",
    "tile has a ladder to 38, so 1 is removed).\n",
    "\n",
    "In terms of transition probabilities, the distributions all follow the \n",
    "distribution of a 6 sided dice roll. However, the snakes and ladders lead to\n",
    "different results for each space. For example, the distribution at state 0 is:\n",
    "\n",
    "```math\n",
    "38, 1/6\n",
    "2, 1/6\n",
    "3, 1/6\n",
    "14, 1/6\n",
    "5, 1/6\n",
    "6, 1/6\n",
    "```\n",
    "\n",
    "More generally, let us assume a ladder going to $s'$ is denoted as $l$ and a snake going to $s'$ is $n$. Then, given we are on space $s$, the probability of landing on $s'$ is:\n",
    "\n",
    "\n",
    "$$1/6,  l||n||s' - s \\le 6, s < l||n||s'$$\n",
    "$$1/3,  (l,s') || (n,s) - s \\le 6, s < (l,s') || (n,s') $$\n",
    "$$1/2, (l,n,s') - s \\le 6, s < l,n,s' $$\n",
    "\n",
    "These distributions show that if $s$ and $s'$ are within six spaces of each other, then the probability of achieving $s'$ is 1/6. This probability doubles if a ladder or snake are also within six spaces of $s$, and triples if all three are within one dice roll of $s$. If all three spaces are below $s$ or greater than 6 away from $s$, the probability is 0.\n",
    "\n",
    "In the current implementation of the game, however, there is no space that has both a ladder and snake pointing to it, so the third line is irrelevant. In addition, there are only two occasions in which the probablility is 1/3; going to space 53 (snake at space 56) and going to space 60 (snake at space 64). Aside from these edge cases, the probability of landing on $s'$ given that we are on $s$ is 1/6 if $s$ is within 6 spaces of $s'$, its corresponding ladder, or its corresponding snake.\n"
   ]
  },
  {
   "cell_type": "markdown",
   "metadata": {},
   "source": [
    "### Question 2"
   ]
  },
  {
   "cell_type": "code",
   "execution_count": 7,
   "metadata": {},
   "outputs": [],
   "source": [
    "import itertools\n",
    "import matplotlib.pyplot as plt\n",
    "from typing import Tuple, Dict, Mapping\n",
    "from rl.distribution import Categorical, FiniteDistribution\n",
    "from rl.markov_process import (FiniteMarkovProcess, MarkovProcess,\n",
    "                                MarkovRewardProcess, FiniteMarkovRewardProcess,\n",
    "                                NonTerminal, State)\n"
   ]
  },
  {
   "cell_type": "code",
   "execution_count": 18,
   "metadata": {},
   "outputs": [],
   "source": [
    "class SnakesAndLadders(FiniteMarkovProcess[int]):\n",
    "    def __init__(self, p):\n",
    "        irregulars = {1,4,9,16,21,28,36,47,49,51,56,62,64,71,80,87,93,95,98}\n",
    "        change = {1:38, 4:14, 9:31, 16:6,\n",
    "                21:42, 28:84, 36:44, 47:26, \n",
    "                49:11, 51:67, 56:53, 62:19,\n",
    "                64:60, 71:91, 80:100, 87:24,\n",
    "                93:73, 95:75, 98:78}\n",
    "        regulars = set(range(0,106))\n",
    "        regulars = regulars.difference(irregulars)\n",
    "        transition_map = {\n",
    "            b : Categorical({(b+x if b+x in regulars else change[b+x]): (1/p)\n",
    "                for x in range(1,p)}\n",
    "            ) for b in range(0,99)\n",
    "        }\n",
    "        super().__init__(transition_map)"
   ]
  },
  {
   "cell_type": "code",
   "execution_count": 19,
   "metadata": {},
   "outputs": [],
   "source": [
    "simulation = SnakesAndLadders(6)\n",
    "startstate = simulation.transition(NonTerminal(0))\n",
    "tracer = simulation.traces(startstate)\n",
    "runcounter = itertools.islice(tracer, 10000)\n",
    "rundata = []\n",
    "for run in runcounter:\n",
    "    count = sum(1 for i in run)\n",
    "    rundata.append(count)\n",
    "\n"
   ]
  },
  {
   "cell_type": "code",
   "execution_count": 20,
   "metadata": {},
   "outputs": [
    {
     "data": {
      "image/png": "[encoded data removed]",
      "text/plain": [
       "<Figure size 720x504 with 1 Axes>"
      ]
     },
     "metadata": {
      "needs_background": "light"
     },
     "output_type": "display_data"
    }
   ],
   "source": [
    "fig, ax = plt.subplots(1,1, figsize = (10,7), tight_layout = True)\n",
    "ax.hist(rundata, bins = 7)\n",
    "plt.show()"
   ]
  },
  {
   "cell_type": "markdown",
   "metadata": {},
   "source": [
    "### Question 3"
   ]
  },
  {
   "cell_type": "markdown",
   "metadata": {},
   "source": [
    "In the frog puzzle, we need to figure out the expected number of jumps it will take the frog to cross a river with $n - 1$ lilypads between itself and the other bank."
   ]
  },
  {
   "cell_type": "markdown",
   "metadata": {},
   "source": [
    "If the frog is $n$ spaces away, we can see that there is a recurrence relation between $E[n]$ and the expected value of the space it lands on.\n",
    "\n",
    "$$ E[n] = 1 + \\frac{1}{n} \\sum_{i=1}^{n-1} E[i]$$\n",
    "\n",
    "This is the sum of expected jumps from each space it lands on plus the one jump to get there.\n",
    "In the case of $n - 1$ spaces, there is a similar relation:\n",
    "\n",
    "$$ E[n - 1] = 1 + \\frac{1}{n-1}\\sum_{i=1}^{n-2} E[i] $$\n",
    "\n",
    "As a result, we can see that each space is a Markov process with transition probability of $1/n$. If we scale and subtract these two equations, we get the following:\n",
    "\n",
    "$$ nE[n] - (n-1)E[n-1] = n - (n-1) + E[n-1] $$\n",
    "\n",
    "$$ = 1 + E[n - 1] $$\n",
    "\n",
    "When solving for $E[n]$, we get:\n",
    "\n",
    "$$ E[n] = \\frac{1}{n} + E[n-1] $$\n",
    "\n",
    "This is the expected value form of the harmonic series $\\sum_{i=1}^n \\frac{1}{i} $. While this series does not converge and has no closed form solution, it does diverge very slowly, and its partial sums can be found through summation. For the $n = 10$ case, the expected number of jumps is equal to the 10th harmonic number (i.e. $\\sum_{i=1}^{10} \\frac{1}{i} $, or approximately 2.928968. In the general case, the expected number of jumps for the frog is the n'th harmonic number.\n",
    "\n",
    "\n",
    "\n",
    "\n",
    "\n"
   ]
  },
  {
   "cell_type": "markdown",
   "metadata": {},
   "source": [
    "### Question 4"
   ]
  },
  {
   "cell_type": "code",
   "execution_count": 13,
   "metadata": {},
   "outputs": [],
   "source": [
    "class SnakeLadderReward(FiniteMarkovRewardProcess[int]):\n",
    "    def __init__(self, p: int, startreward: int):\n",
    "        self.p: int = p\n",
    "        self.startreward: int = startreward\n",
    "        super().__init__(self.get_transition_reward_map())\n",
    "    \n",
    "    def get_transition_reward_map(self) -> \\\n",
    "            Mapping[\n",
    "                int,\n",
    "                FiniteDistribution[Tuple[int, int]]\n",
    "            ]:\n",
    "        d: Dict[int, Categorical[Tuple[int, int]]] = {}\n",
    "        irregulars = {1,4,9,16,21,28,36,47,49,51,56,62,64,71,80,87,93,95,98}\n",
    "        change = {1:38, 4:14, 9:31, 16:6,\n",
    "                21:42, 28:84, 36:44, 47:26, \n",
    "                49:11, 51:67, 56:53, 62:19,\n",
    "                64:60, 71:91, 80:100, 87:24,\n",
    "                93:73, 95:75, 98:78}\n",
    "        regulars = set(range(0,106))\n",
    "        regulars = regulars.difference(irregulars)\n",
    "        d = {\n",
    "            b : Categorical({(b+x if b+x in regulars else change[b+x], r): (1/self.p)\n",
    "                for x in range(1,self.p) for r in range(self.startreward, 500)}\n",
    "            ) for b in range(0,99)\n",
    "        }\n",
    "\n",
    "        self.transition_map = {\n",
    "            b : Categorical({(b+x if b+x in regulars else change[b+x]): (1/self.p)\n",
    "                for x in range(1,self.p)}\n",
    "            ) for b in range(0,99)\n",
    "        }\n",
    "\n",
    "        return d\n",
    "        \n",
    "                    "
   ]
  },
  {
   "cell_type": "code",
   "execution_count": 15,
   "metadata": {},
   "outputs": [
    {
     "name": "stdout",
     "output_type": "stream",
     "text": [
      "{NonTerminal(state=30): 10165.694,\n",
      " NonTerminal(state=31): 10032.31,\n",
      " NonTerminal(state=32): 9977.902,\n",
      " NonTerminal(state=33): 9916.297,\n",
      " NonTerminal(state=34): 9858.212,\n",
      " NonTerminal(state=35): 9796.25,\n",
      " NonTerminal(state=29): 10239.583,\n",
      " NonTerminal(state=28): 10315.857,\n",
      " NonTerminal(state=27): 9496.42,\n",
      " NonTerminal(state=26): 9400.124,\n",
      " NonTerminal(state=25): 9273.686,\n",
      " NonTerminal(state=24): 9095.285,\n",
      " NonTerminal(state=18): 9570.935,\n",
      " NonTerminal(state=19): 9491.66,\n",
      " NonTerminal(state=20): 9455.331,\n",
      " NonTerminal(state=21): 9471.782,\n",
      " NonTerminal(state=22): 9475.888,\n",
      " NonTerminal(state=23): 8866.425,\n",
      " NonTerminal(state=17): 9711.838,\n",
      " NonTerminal(state=16): 9759.027,\n",
      " NonTerminal(state=15): 10046.037,\n",
      " NonTerminal(state=14): 10164.178,\n",
      " NonTerminal(state=13): 10298.681,\n",
      " NonTerminal(state=12): 10444.231,\n",
      " NonTerminal(state=11): 10590.709,\n",
      " NonTerminal(state=10): 10558.267,\n",
      " NonTerminal(state=9): 10660.713,\n",
      " NonTerminal(state=8): 10634.34,\n",
      " NonTerminal(state=7): 10701.471,\n",
      " NonTerminal(state=6): 10752.92,\n",
      " NonTerminal(state=5): 10785.362,\n",
      " NonTerminal(state=4): 10830.781,\n",
      " NonTerminal(state=3): 10857.154,\n",
      " NonTerminal(state=2): 10901.717,\n",
      " NonTerminal(state=1): 10941.766,\n",
      " NonTerminal(state=0): 10712.836,\n",
      " NonTerminal(state=72): 4948.625,\n",
      " NonTerminal(state=73): 4969.564,\n",
      " NonTerminal(state=74): 5007.703,\n",
      " NonTerminal(state=75): 4173.086,\n",
      " NonTerminal(state=76): 4496.476,\n",
      " NonTerminal(state=77): 4848.798,\n",
      " NonTerminal(state=66): 4841.67,\n",
      " NonTerminal(state=67): 4859.496,\n",
      " NonTerminal(state=68): 4877.84,\n",
      " NonTerminal(state=69): 4899.484,\n",
      " NonTerminal(state=70): 4778.418,\n",
      " NonTerminal(state=71): 4968.591,\n",
      " NonTerminal(state=60): 7022.179,\n",
      " NonTerminal(state=61): 6658.761,\n",
      " NonTerminal(state=62): 5732.328,\n",
      " NonTerminal(state=63): 5589.913,\n",
      " NonTerminal(state=64): 5165.374,\n",
      " NonTerminal(state=65): 5100.881,\n",
      " NonTerminal(state=54): 7998.892,\n",
      " NonTerminal(state=55): 7836.106,\n",
      " NonTerminal(state=56): 7545.73,\n",
      " NonTerminal(state=57): 7870.051,\n",
      " NonTerminal(state=58): 7490.028,\n",
      " NonTerminal(state=59): 7440.128,\n",
      " NonTerminal(state=48): 8132.597,\n",
      " NonTerminal(state=49): 7614.233,\n",
      " NonTerminal(state=50): 7651.212,\n",
      " NonTerminal(state=51): 8286.766,\n",
      " NonTerminal(state=52): 8203.423,\n",
      " NonTerminal(state=53): 8110.644,\n",
      " NonTerminal(state=42): 9317.872,\n",
      " NonTerminal(state=43): 9120.327,\n",
      " NonTerminal(state=44): 9365.39,\n",
      " NonTerminal(state=45): 9079.694,\n",
      " NonTerminal(state=46): 8376.328,\n",
      " NonTerminal(state=47): 8136.988,\n",
      " NonTerminal(state=36): 9783.457,\n",
      " NonTerminal(state=37): 9705.859,\n",
      " NonTerminal(state=38): 9608.271,\n",
      " NonTerminal(state=39): 9567.79,\n",
      " NonTerminal(state=40): 9486.441,\n",
      " NonTerminal(state=41): 9301.422,\n",
      " NonTerminal(state=96): 1517.221,\n",
      " NonTerminal(state=97): 1264.351,\n",
      " NonTerminal(state=98): 249.5,\n",
      " NonTerminal(state=90): 3951.289,\n",
      " NonTerminal(state=91): 3545.611,\n",
      " NonTerminal(state=92): 3165.401,\n",
      " NonTerminal(state=93): 3186.339,\n",
      " NonTerminal(state=94): 2655.283,\n",
      " NonTerminal(state=95): 1820.666,\n",
      " NonTerminal(state=84): 5819.111,\n",
      " NonTerminal(state=85): 5507.807,\n",
      " NonTerminal(state=86): 5180.775,\n",
      " NonTerminal(state=87): 3994.798,\n",
      " NonTerminal(state=88): 4157.259,\n",
      " NonTerminal(state=89): 3906.929,\n",
      " NonTerminal(state=78): 5074.256,\n",
      " NonTerminal(state=79): 5198.398,\n",
      " NonTerminal(state=80): 6299.96,\n",
      " NonTerminal(state=81): 6113.429,\n",
      " NonTerminal(state=82): 6610.405,\n",
      " NonTerminal(state=83): 6201.547}\n"
     ]
    }
   ],
   "source": [
    "reward = SnakeLadderReward(6, 0)\n",
    "reward.display_value_function(1)\n"
   ]
  }
 ],
 "metadata": {
  "interpreter": {
   "hash": "579dcdfb899fc187fdf97538744cc3a387eca9f5084bb8d1591af8d2d48fab3d"
  },
  "kernelspec": {
   "display_name": "Python 3.9.9 64-bit ('.venv': venv)",
   "language": "python",
   "name": "python3"
  },
  "language_info": {
   "codemirror_mode": {
    "name": "ipython",
    "version": 3
   },
   "file_extension": ".py",
   "mimetype": "text/x-python",
   "name": "python",
   "nbconvert_exporter": "python",
   "pygments_lexer": "ipython3",
   "version": "3.9.9"
  },
  "orig_nbformat": 4
 },
 "nbformat": 4,
 "nbformat_minor": 2
}
