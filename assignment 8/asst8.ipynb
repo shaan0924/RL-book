{
 "cells": [
  {
   "cell_type": "markdown",
   "metadata": {},
   "source": [
    "# CME 241 Assignment 8"
   ]
  },
  {
   "cell_type": "markdown",
   "metadata": {},
   "source": [
    "## Shaan Patel"
   ]
  },
  {
   "cell_type": "markdown",
   "metadata": {},
   "source": [
    "### Question 1"
   ]
  },
  {
   "cell_type": "code",
   "execution_count": 2,
   "metadata": {},
   "outputs": [],
   "source": [
    "from dataclasses import dataclass\n",
    "from typing import Tuple, Dict, Mapping\n",
    "from rl.distribution import Categorical\n",
    "from rl.markov_decision_process import FiniteMarkovDecisionProcess\n",
    "from rl.policy import FinitePolicy"
   ]
  },
  {
   "cell_type": "code",
   "execution_count": null,
   "metadata": {},
   "outputs": [],
   "source": [
    "@dataclass(frozen=True)\n",
    "class BankState:\n",
    "    cash: float\n",
    "    borrowed: float\n",
    "    invested: float\n",
    "\n",
    "    def get_on_hand(self) -> float:\n",
    "        return self.cash + self.borrowed\n",
    "\n",
    "\n",
    "\n",
    "BankMapping = Mapping[\n",
    "    BankState,\n",
    "    Mapping[(float,float), Categorical[Tuple[BankState, float]]]\n",
    "]"
   ]
  },
  {
   "cell_type": "code",
   "execution_count": null,
   "metadata": {},
   "outputs": [],
   "source": [
    "class BankMDP(FiniteMarkovDecisionProcess[int]):\n",
    "\n",
    "    def __init__(\n",
    "        self,\n",
    "        cashlimit: float,\n",
    "        borrowrate: float,\n",
    "        penalty: float\n",
    "    ):\n",
    "        self.cashlimit: float = cashlimit\n",
    "        self.borrowrate: float = borrowrate\n",
    "        self.penalty: float = penalty\n",
    "\n",
    "        super().__init__(self.get_action_transition_reward_map())\n",
    "\n",
    "    def get_action_transition_reward_map(self) -> BankMapping:\n",
    "        d: Dict[BankState, Dict[(float, float), Categorical[Tuple[BankState, float]]]] = {}\n",
    "\n",
    "        for \n"
   ]
  }
 ],
 "metadata": {
  "interpreter": {
   "hash": "579dcdfb899fc187fdf97538744cc3a387eca9f5084bb8d1591af8d2d48fab3d"
  },
  "kernelspec": {
   "display_name": "Python 3.9.10 64-bit ('.venv': venv)",
   "language": "python",
   "name": "python3"
  },
  "language_info": {
   "codemirror_mode": {
    "name": "ipython",
    "version": 3
   },
   "file_extension": ".py",
   "mimetype": "text/x-python",
   "name": "python",
   "nbconvert_exporter": "python",
   "pygments_lexer": "ipython3",
   "version": "3.9.10"
  },
  "orig_nbformat": 4
 },
 "nbformat": 4,
 "nbformat_minor": 2
}
