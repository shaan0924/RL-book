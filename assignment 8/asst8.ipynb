{
 "cells": [
  {
   "cell_type": "markdown",
   "metadata": {},
   "source": [
    "# CME 241 Assignment 8"
   ]
  },
  {
   "cell_type": "markdown",
   "metadata": {},
   "source": [
    "## Shaan Patel"
   ]
  },
  {
   "cell_type": "markdown",
   "metadata": {},
   "source": [
    "### Question 1"
   ]
  },
  {
   "cell_type": "markdown",
   "metadata": {},
   "source": [
    "Our state space has to include three things. First, the amount of cash we have on hand that is available for both investment and withdrawal (denote this as $h$). Second is the amount of money that we have invested at the start of the day (denoted as $v$). Last, we have the amount borrowed from another bank (denoted as $y$). Thus, our state space is a collection of three numbers:\n",
    "\n",
    "$$ S = (h,v,y), \\\\ (h,v,y) \\in [0,\\infty) \\\\ h + y= c \\geq K \\cot(\\frac{\\pi c}{2C})$$"
   ]
  },
  {
   "cell_type": "markdown",
   "metadata": {},
   "source": [
    "$v$, the amount we invest, is not constrained by $c$ because we can always borrow more money to invest it into the risky asset. In addition, there is no upper limit on how much we receive in cash deposits. There is a lower limit however, and this is the regulator penalty that we will need to pay if we are below $C$."
   ]
  },
  {
   "cell_type": "markdown",
   "metadata": {},
   "source": [
    "For the action space, we have to choose how much money to borrow and to invest. As such, our action space is then $(w,x)$, where $w$ is how much money we choose to invest/withdraw and $x$ is how much we choose to borrow.\n",
    "\n",
    "$$y_{t+1} = x_t $$\n",
    "$$v_{t+1} = (v_t + w_t)Z $$\n",
    "\n",
    "Where Z is the random variable representing the return of the risky asset."
   ]
  },
  {
   "cell_type": "markdown",
   "metadata": {},
   "source": [
    "$$A = (w,x) \\\\ w_t \\in [-v_t, \\infty) \\\\ x \\in [0, \\infty) $$\n"
   ]
  },
  {
   "cell_type": "markdown",
   "metadata": {},
   "source": [
    "The transitions have to follow the strict rules laid out by the banks and assets. We start by subtracting the regulator penalty if $c < C$ and then deciding upon the action. Following this, we then add all of the deposits from the start of the day, subtract the withdrawals, defer whichever withdrawals we cannot complete, and then at the end of the day, pay back the previous day's loan to the other bank. As such, our transition looks like:\n",
    "\n",
    "$$c < C$$\n",
    "$$c_{t+1} = c_t - K \\cot(\\frac{\\pi c}{2C}) + x_t - w_t + D_t - W_t - (1 + R)y_t $$"
   ]
  },
  {
   "cell_type": "markdown",
   "metadata": {},
   "source": [
    "$$ c \\geq C$$\n",
    "$$c_{t+1} = c_t + x_t - w_t + D_t - W_t - (1+R)y_t $$\n",
    "\n",
    "Where $D_t$ is the deposits made that morning, and $W_t$ is the all the withdrawals that are made that day that were not deferred."
   ]
  },
  {
   "cell_type": "markdown",
   "metadata": {},
   "source": [
    "We can derive $h$ from this fairly easily:\n",
    "\n",
    "$$h_{t+1} = h_t + y_t - K\\cot(\\frac{\\pi(h_t + y_t)}{2C})I(h_t + y_t < C) + x_t - w_t + D_t - W_t - (1 + R)y_t $$\n",
    "\n",
    "This follows the assumption that any borrowing we have done in the previous day is paid off the next day.\n",
    "\n",
    "As stated previously, our investment in the next day is:\n",
    "$$ v_{t+1} = (v_t + w_t)Z $$"
   ]
  },
  {
   "cell_type": "markdown",
   "metadata": {},
   "source": [
    "And our amount borrowed is:\n",
    "$$y_{t+1} = x_t $$"
   ]
  },
  {
   "cell_type": "markdown",
   "metadata": {},
   "source": [
    "Our reward function in this case is the Utility function of our overall Equity (Assets - Liabilities). Thus, this is:\n",
    "\n",
    "$$R_t = U(E_t) = U(h_t + v_t - y_t) $$"
   ]
  },
  {
   "cell_type": "markdown",
   "metadata": {},
   "source": [
    "As our assets include the cash on hand plus our overall earnings from the risky asset and our liability is the money we borrowed from the other bank."
   ]
  },
  {
   "cell_type": "markdown",
   "metadata": {},
   "source": [
    "To solve this, I would use"
   ]
  },
  {
   "cell_type": "markdown",
   "metadata": {},
   "source": [
    "### Question 2"
   ]
  },
  {
   "cell_type": "markdown",
   "metadata": {},
   "source": []
  }
 ],
 "metadata": {
  "interpreter": {
   "hash": "579dcdfb899fc187fdf97538744cc3a387eca9f5084bb8d1591af8d2d48fab3d"
  },
  "kernelspec": {
   "display_name": "Python 3.9.10 64-bit ('.venv': venv)",
   "language": "python",
   "name": "python3"
  },
  "language_info": {
   "codemirror_mode": {
    "name": "ipython",
    "version": 3
   },
   "file_extension": ".py",
   "mimetype": "text/x-python",
   "name": "python",
   "nbconvert_exporter": "python",
   "pygments_lexer": "ipython3",
   "version": "3.9.10"
  },
  "orig_nbformat": 4
 },
 "nbformat": 4,
 "nbformat_minor": 2
}
