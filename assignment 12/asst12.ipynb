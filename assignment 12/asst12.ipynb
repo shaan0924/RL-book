{
 "cells": [
  {
   "cell_type": "markdown",
   "metadata": {},
   "source": [
    "# CME 241 Assignment 12"
   ]
  },
  {
   "cell_type": "markdown",
   "metadata": {},
   "source": [
    "## Shaan Patel"
   ]
  },
  {
   "cell_type": "markdown",
   "metadata": {},
   "source": [
    "### Question 2"
   ]
  },
  {
   "cell_type": "code",
   "execution_count": 2,
   "metadata": {},
   "outputs": [],
   "source": [
    "from typing import Iterable, Iterator, TypeVar, Mapping\n",
    "import rl.markov_process as mp\n",
    "from rl.returns import returns\n",
    "from collections import defaultdict"
   ]
  },
  {
   "cell_type": "code",
   "execution_count": 3,
   "metadata": {},
   "outputs": [],
   "source": [
    "S = TypeVar('S')\n",
    "\n",
    "def tabular_td_lambda(\n",
    "    transitions: Iterable[mp.TransitionStep[S]],\n",
    "    approx_0: Mapping[S,float],\n",
    "    gamma: float,\n",
    "    l: float,\n",
    ") -> Iterator[Mapping[S,float]]:\n",
    "\n",
    "    counts = defaultdict(lambda: 0)\n",
    "    el_traces = defaultdict(lambda: defaultdict(lambda:0))\n",
    "    el_traces[0] = defaultdict(lambda: 0)\n",
    "    f = approx_0\n",
    "    yield f\n",
    "\n",
    "    t = 0\n",
    "    for move in transitions:\n",
    "        t += 1\n",
    "        el_traces[t] = defaultdict(lambda:0)\n",
    "        if t > 1:\n",
    "            for state in el_traces[t-1]:\n",
    "                el_traces[t][state] += gamma*l*el_traces[t-1][state]\n",
    "        \n",
    "        el_traces[t][move.state] += 1\n",
    "        counts[move.state] += 1\n",
    "        f[move.state] += (1/counts[move.state])*\\\n",
    "            (move.reward + gamma*f[move.next_state] - f[move.state])*\\\n",
    "                el_traces[t][move.state]\n",
    "        yield f\n",
    "        "
   ]
  },
  {
   "cell_type": "markdown",
   "metadata": {},
   "source": [
    "### Question 3"
   ]
  },
  {
   "cell_type": "markdown",
   "metadata": {},
   "source": [
    "Let us take a look at the $R_u$ terms first. The expansion of the sum with respect to the $R_t$ terms gives us:\n",
    "\n",
    "$$ R_{t+1} + \\gamma R_{t+2} + \\gamma^2 R_{t+3} + ... = \\sum_{u=t} \\gamma^{u-t} R_{u+1}  = G_t$$\n",
    "\n"
   ]
  },
  {
   "cell_type": "markdown",
   "metadata": {},
   "source": [
    "Expanding the $V(S_t)$ terms gives us:\n",
    "\n",
    "$$ \\gamma V(S_{t+1}) - V(S_t) + \\gamma^2 V(S_{t+2}) - \\gamma V(S_{t+1}) + ... + \\gamma^{T-t} V(S_T) - \\gamma^{T-1-t} V(S_{T-1})  $$"
   ]
  },
  {
   "cell_type": "markdown",
   "metadata": {},
   "source": [
    "These terms can cancel out to just $ - V(S_t) + \\gamma^{T-t}V(S_T)$. As $T$ gets large, the last term goes to 0. Thus, the sum reduces to:\n",
    "\n",
    "$$ G_t - V(S_t) $$\n",
    "\n",
    "As such, the sum of discounted TD errors is equal to the MC error."
   ]
  },
  {
   "cell_type": "markdown",
   "metadata": {},
   "source": []
  }
 ],
 "metadata": {
  "interpreter": {
   "hash": "579dcdfb899fc187fdf97538744cc3a387eca9f5084bb8d1591af8d2d48fab3d"
  },
  "kernelspec": {
   "display_name": "Python 3.9.10 ('.venv': venv)",
   "language": "python",
   "name": "python3"
  },
  "language_info": {
   "codemirror_mode": {
    "name": "ipython",
    "version": 3
   },
   "file_extension": ".py",
   "mimetype": "text/x-python",
   "name": "python",
   "nbconvert_exporter": "python",
   "pygments_lexer": "ipython3",
   "version": "3.9.10"
  },
  "orig_nbformat": 4
 },
 "nbformat": 4,
 "nbformat_minor": 2
}
