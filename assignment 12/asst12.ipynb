{
 "cells": [
  {
   "cell_type": "markdown",
   "metadata": {},
   "source": [
    "# CME 241 Assignment 12"
   ]
  },
  {
   "cell_type": "markdown",
   "metadata": {},
   "source": [
    "## Shaan Patel"
   ]
  },
  {
   "cell_type": "markdown",
   "metadata": {},
   "source": [
    "### Question 2"
   ]
  },
  {
   "cell_type": "code",
   "execution_count": 1,
   "metadata": {},
   "outputs": [],
   "source": [
    "from typing import Iterable, Iterator, TypeVar, Mapping\n",
    "import rl.markov_process as mp\n",
    "from rl.returns import returns\n",
    "from collections import defaultdict"
   ]
  },
  {
   "cell_type": "code",
   "execution_count": null,
   "metadata": {},
   "outputs": [],
   "source": [
    "S = TypeVar('S')\n",
    "\n",
    "def tabular_td_lambda(\n",
    "    transitions: Iterable[mp.TransitionStep[S]],\n",
    "    approx_0: Mapping[S,float],\n",
    "    gamma: float,\n",
    "    l: float,\n",
    ") -> Iterator[Mapping[S,float]]:\n",
    "\n",
    "    counts = defaultdict(lambda: 0)\n",
    "    el_traces = defaultdict(lambda: defaultdict(lambda:0))\n",
    "    el_traces[0] = defaultdict(lambda: 0)\n",
    "\n",
    "    t = 0\n",
    "    for move in transitions:\n",
    "        t += 1\n",
    "        el_traces[t] = defaultdict(lambda:0)\n",
    "        if t > 1:\n",
    "            for state in el_traces[t-1]:\n",
    "                el_traces[t][state] += gamma*l*el_traces[t-1][state]\n",
    "        \n",
    "        el_traces[t][move.state] += 1\n",
    "    \n",
    "    f = approx_0\n",
    "    yield f\n",
    "\n",
    "\n",
    "    s = 0\n",
    "    for move in transitions:\n",
    "        s += 1\n",
    "        "
   ]
  }
 ],
 "metadata": {
  "interpreter": {
   "hash": "579dcdfb899fc187fdf97538744cc3a387eca9f5084bb8d1591af8d2d48fab3d"
  },
  "kernelspec": {
   "display_name": "Python 3.9.10 ('.venv': venv)",
   "language": "python",
   "name": "python3"
  },
  "language_info": {
   "codemirror_mode": {
    "name": "ipython",
    "version": 3
   },
   "file_extension": ".py",
   "mimetype": "text/x-python",
   "name": "python",
   "nbconvert_exporter": "python",
   "pygments_lexer": "ipython3",
   "version": "3.9.10"
  },
  "orig_nbformat": 4
 },
 "nbformat": 4,
 "nbformat_minor": 2
}
