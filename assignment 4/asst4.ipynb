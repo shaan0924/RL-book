{
 "cells": [
  {
   "cell_type": "markdown",
   "metadata": {},
   "source": [
    "# CME 241 Assignment 4"
   ]
  },
  {
   "cell_type": "markdown",
   "metadata": {},
   "source": [
    "## Shaan Patel"
   ]
  },
  {
   "cell_type": "markdown",
   "metadata": {},
   "source": [
    "### Question 1"
   ]
  },
  {
   "cell_type": "markdown",
   "metadata": {},
   "source": [
    "Given we know $v_0$, we can now find $v_1$ through the value iteration method.\n",
    "\n",
    "$$ v_1(s) = B^*(v_0)(s) = \\max_{a \\in A} Q^\\pi(s,a)$$\n",
    "\n",
    "$$ = \\max_{a \\in A} [R(s,a) + \\gamma \\sum_{s' \\in N} P(s,a,s') V^*(s')] $$"
   ]
  },
  {
   "cell_type": "markdown",
   "metadata": {},
   "source": [
    "for $s_1$ we get\n",
    "\n",
    "$$ \\max_{a \\in A} [R(s_1,a) + \\gamma \\sum_{s' \\in N} P(s_1,a,s')v^*(s')] $$\n",
    "$$ = 8 + (0.2 * 10 + 0.6*1 + 0.2*0) = 10.6$$ \n",
    "for $a_1$ and\n",
    "$$ = 10 + (0.1*10 + 0.2*1 + 0.7*0) = 11.2$$ \n",
    "\n",
    "for $a_2$. So $v_1(s_1) = 11.2$. For $s_2$ we have\n",
    "\n",
    "$$ 1 + (0.3*10 + 0.3*1 + 0.4*0) = 4.3$$ \n",
    "for $a_1$ and\n",
    "$$ -1 + (0.5*10 + 0.3*1 + 0.2*0) = 4.3$$ \n",
    "for $a_2$. So $v_1(s_2) = 4.3$. $v_1(s_3) = 0$ because it is the terminal state and has no rewards.\n",
    "\n",
    "The optimal policy $\\pi_1(s)$ is 2 for $s_1$ and either 1 or 2 for $s_2$, so $\\pi_1(s) = 2$."
   ]
  },
  {
   "cell_type": "markdown",
   "metadata": {},
   "source": [
    "For $v_2$ we do a similar step. In the $s_1$ case,\n",
    "\n",
    "$$v_2(s_1) = 8 + (0.2*11.2 + 0.6*4.3 + 0) = 12.82 $$\n",
    "for $a_1$ and\n",
    "$$ = 10 + (0.1*11.2 + 0.2*4.3 + 0) = 11.98 $$\n",
    "\n",
    "for $a_2$. So $v_1(s_1) = 12.82$ for action $a_1$. In the $s_2$ case,\n",
    "\n",
    "$$v_2(s_2) = 1 + (0.3*11.2 + 0.3*4.3 + 0) = 5.65$$\n",
    "for $a_1$ and\n",
    "$$ -1 + (0.5*11.2 + 0.3*4.3 + 0) = 5.89 $$\n",
    "for $a_2$. so $v_1(s_2) = 5.89$ for action $a_2$."
   ]
  },
  {
   "cell_type": "markdown",
   "metadata": {},
   "source": [
    "We can see that the value functions for each state are increasing with each iteration. As such, the action that has the higher probability of reaching state 1 will yield the higher value function. In the case of $s_1$, we see that action $a_1$ has a higher chance of returning both $s_1$ and $s_2$ over $a_2$. As such, through continuous iterations, action 1 will continuously give higher values than action 2.\n",
    "\n",
    "For $s_2$, we see that the probability of reaching state 2 is the same for both actions, but the chance of reaching state 1 is higher with action 2. Thus, over continuous iterations, this will yield higher sums than in action 1.\n",
    "\n",
    "As a result, $\\pi_k(s)$ for $k > 2$ is equal to $\\pi_2(s)$, which is $a_1$ for $s_1$ and $a_2$ for $s_2$."
   ]
  },
  {
   "cell_type": "markdown",
   "metadata": {},
   "source": []
  }
 ],
 "metadata": {
  "language_info": {
   "name": "python"
  },
  "orig_nbformat": 4
 },
 "nbformat": 4,
 "nbformat_minor": 2
}
