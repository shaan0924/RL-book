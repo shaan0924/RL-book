{
 "cells": [
  {
   "cell_type": "markdown",
   "metadata": {},
   "source": [
    "# CME 241 Assignment 4"
   ]
  },
  {
   "cell_type": "markdown",
   "metadata": {},
   "source": [
    "## Shaan Patel"
   ]
  },
  {
   "cell_type": "markdown",
   "metadata": {},
   "source": [
    "### Question 1"
   ]
  },
  {
   "cell_type": "markdown",
   "metadata": {},
   "source": [
    "Given we know $v_0$, we can now find $v_1$ through the value iteration method.\n",
    "\n",
    "$$ v_1(s) = B^*(v_0)(s) = \\max_{a \\in A} Q^\\pi(s,a)$$\n",
    "\n",
    "$$ = \\max_{a \\in A} [R(s,a) + \\gamma \\sum_{s' \\in N} P(s,a,s') V^*(s')] $$"
   ]
  },
  {
   "cell_type": "markdown",
   "metadata": {},
   "source": [
    "for $s_1$ we get\n",
    "\n",
    "$$ \\max_{a \\in A} [R(s_1,a) + \\gamma \\sum_{s' \\in N} P(s_1,a,s')v^*(s')] $$\n",
    "$$ = 8 + (0.2 * 10 + 0.6*1 + 0.2*0) = 10.6$$ \n",
    "for $a_1$ and\n",
    "$$ = 10 + (0.1*10 + 0.2*1 + 0.7*0) = 11.2$$ \n",
    "\n",
    "for $a_2$. So $v_1(s_1) = 11.2$. For $s_2$ we have\n",
    "\n",
    "$$ 1 + (0.3*10 + 0.3*1 + 0.4*0) = 4.3$$ \n",
    "for $a_1$ and\n",
    "$$ -1 + (0.5*10 + 0.3*1 + 0.2*0) = 4.3$$ \n",
    "for $a_2$. So $v_1(s_2) = 4.3$. $v_1(s_3) = 0$ because it is the terminal state and has no rewards.\n",
    "\n",
    "The optimal policy $\\pi_1(s)$ is 2 for $s_1$ and either 1 or 2 for $s_2$, so $\\pi_1(s) = 2$."
   ]
  },
  {
   "cell_type": "markdown",
   "metadata": {},
   "source": [
    "For $v_2$ we do a similar step. In the $s_1$ case,\n",
    "\n",
    "$$v_2(s_1) = 8 + (0.2*11.2 + 0.6*4.3 + 0) = 12.82 $$\n",
    "for $a_1$ and\n",
    "$$ = 10 + (0.1*11.2 + 0.2*4.3 + 0) = 11.98 $$\n",
    "\n",
    "for $a_2$. So $v_1(s_1) = 12.82$ for action $a_1$. In the $s_2$ case,\n",
    "\n",
    "$$v_2(s_2) = 1 + (0.3*11.2 + 0.3*4.3 + 0) = 5.65$$\n",
    "for $a_1$ and\n",
    "$$ -1 + (0.5*11.2 + 0.3*4.3 + 0) = 5.89 $$\n",
    "for $a_2$. so $v_1(s_2) = 5.89$ for action $a_2$."
   ]
  },
  {
   "cell_type": "markdown",
   "metadata": {},
   "source": [
    "We can see that the value functions for each state are increasing with each iteration. As such, the action that has the higher probability of reaching state 1 will yield the higher value function. In the case of $s_1$, we see that action $a_1$ has a higher chance of returning both $s_1$ and $s_2$ over $a_2$. As such, through continuous iterations, action 1 will continuously give higher values than action 2.\n",
    "\n",
    "For $s_2$, we see that the probability of reaching state 2 is the same for both actions, but the chance of reaching state 1 is higher with action 2. Thus, over continuous iterations, this will yield higher sums than in action 1.\n",
    "\n",
    "As a result, $\\pi_k(s)$ for $k > 2$ is equal to $\\pi_2(s)$, which is $a_1$ for $s_1$ and $a_2$ for $s_2$."
   ]
  },
  {
   "cell_type": "markdown",
   "metadata": {},
   "source": [
    "### Question 4"
   ]
  },
  {
   "cell_type": "code",
   "execution_count": 16,
   "metadata": {},
   "outputs": [],
   "source": [
    "from dataclasses import dataclass\n",
    "from typing import Tuple, Dict, Mapping\n",
    "from rl.markov_decision_process import FiniteMarkovDecisionProcess\n",
    "from rl.policy import FiniteDeterministicPolicy\n",
    "from rl.markov_process import FiniteMarkovProcess, FiniteMarkovRewardProcess\n",
    "from rl.distribution import Categorical\n",
    "from rl.dynamic_programming import policy_iteration_result, value_iteration_result\n",
    "from scipy.stats import poisson"
   ]
  },
  {
   "cell_type": "code",
   "execution_count": null,
   "metadata": {},
   "outputs": [],
   "source": [
    "@dataclass(frozen=True)\n",
    "class InventoryState:\n",
    "    on_hand1: int\n",
    "    on_order1: int\n",
    "    on_hand2: int\n",
    "    on_order2: int\n",
    "\n",
    "    def inventory_position1(self) -> int:\n",
    "        return self.on_hand1 + self.on_order1\n",
    "    \n",
    "    def inventory_position2(self) -> int:\n",
    "        return self.on_hand2 + self.on_order2\n",
    "\n",
    "\n",
    "InvOrderMapping = Mapping[\n",
    "    InventoryState,\n",
    "    Mapping[int, Categorical[Tuple[InventoryState, float]]]\n",
    "]\n",
    "\n",
    "TwoStoreAct = Tuple[int,int,int]"
   ]
  },
  {
   "cell_type": "code",
   "execution_count": 13,
   "metadata": {},
   "outputs": [],
   "source": [
    "class ComplexInventoryMDPCap(FiniteMarkovDecisionProcess[InventoryState, int]):\n",
    "\n",
    "    def __init__(\n",
    "        self,\n",
    "        capacity1: int,\n",
    "        capacity2: int,\n",
    "        poisson_lambda1: float,\n",
    "        poisson_lambda2: float,\n",
    "        holding_cost1: float,\n",
    "        holding_cost2: float,\n",
    "        stockout_cost1: float,\n",
    "        stockout_cost2: float,\n",
    "        transport_cost: float,\n",
    "        transfer_cost: float\n",
    "    ):\n",
    "        self.capacity1: int = capacity1\n",
    "        self.capacity2: int = capacity2\n",
    "        self.poisson_lambda1: float = poisson_lambda1\n",
    "        self.poisson_lambda2: float = poisson_lambda2\n",
    "        self.holding_cost1: float = holding_cost1\n",
    "        self.holding_cost2: float = holding_cost2\n",
    "        self.stockout_cost1: float = stockout_cost1\n",
    "        self.stockout_cost2: float = stockout_cost2\n",
    "        self.transport_cost: float = transport_cost\n",
    "        self.transfer_cost: float = transfer_cost\n",
    "\n",
    "        self.poisson_distr1 = poisson(poisson_lambda1)\n",
    "        self.poisson_distr2 = poisson(poisson_lambda2)\n",
    "        super().__init__(self.get_action_transition_reward_map())\n",
    "\n",
    "    def get_action_transition_reward_map(self) -> InvOrderMapping:\n",
    "        d: Dict[InventoryState, Dict[TwoStoreAct, Categorical[Tuple[InventoryState,\n",
    "                                                            float]]]] = {}\n",
    "\n",
    "        for alpha1 in range(self.capacity1 + 1):\n",
    "            for beta1 in range(self.capacity1 + 1 - alpha1):\n",
    "                for alpha2 in range(self.capacity2 + 1):\n",
    "                    for beta2 in range(self.capacity2 - alpha2):\n",
    "                        state: InventoryState = InventoryState(alpha1, beta1, alpha2, beta2)\n",
    "                        ip1: int = state.inventory_position1()\n",
    "                        ip2: int = state.inventory_position2()\n",
    "                        base_reward: float = - self.holding_cost1 * alpha1 - self.holding_cost2 * alpha2\n",
    "                        d1: Dict[TwoStoreAct, Categorical[Tuple[InventoryState, float]]] = {}\n",
    "\n",
    "                        for order1 in range(self.capacity1 - ip1 + 1):\n",
    "                            for order2 in range(self.capacity2 - ip2 + 1):\n",
    "                                for transfer in range(-alpha1, alpha2 + 1):\n",
    "                                    order: TwoStoreAct = (order1, order2, transfer)\n",
    "                                    added_reward = base_reward\n",
    "\n",
    "                                    if order1 > 0 or order2 > 0:\n",
    "                                        added_reward = added_reward - self.transport_cost\n",
    "                                    if transfer > 0:\n",
    "                                        added_reward = added_reward - self.transfer_cost\n",
    "                                    \n",
    "                                    sr_probs_dict: Dict[Tuple[InventoryState, float], float] =\\\n",
    "                                        {(InventoryState(ip1 + transfer - i, order1, ip2 - transfer - j, order2), added_reward):\n",
    "                                        self.poisson_distr1.pmf(i)*self.poisson_distr2.pmf(j) for i in range(ip1) for j in range(ip2)}\n",
    "                                    \n",
    "                                    for j in range(ip2):\n",
    "                                        prob1: float = (1 - self.poisson_distr1.cdf(ip1 + transfer - 1))*self.poisson_distr2.pmf(j)\n",
    "                                        reward1: float = added_reward - self.stockout_cost1 *\\\n",
    "                                            (prob1 * (self.poisson_lambda1 - ip1) +\n",
    "                                            ip1 * self.poisson_distr1.pmf(ip1))\n",
    "                                        sr_probs_dict[(InventoryState(0,order1, ip2 - transfer - j, order2)), reward1] = \\\n",
    "                                            prob1\n",
    "                                    \n",
    "                                    for i in range(ip1):\n",
    "                                        prob2: float = (1 - self.poisson_distr2.cdf(ip2 - transfer - 1))*self.poisson_distr1.pmf(i)\n",
    "                                        reward2: float = added_reward - self.stockout_cost2 *\\\n",
    "                                            (prob2 * (self.poisson_lambda2 - ip2) +\n",
    "                                            ip2 * self.poisson_distr2.pmf(ip2))\n",
    "                                        sr_probs_dict[(InventoryState(ip1 + transfer - i, order1, 0, order2)), reward2] = \\\n",
    "                                            prob2\n",
    "                                    \n",
    "                                    zeroprob: float = (1 - self.poisson_distr1.cdf(ip1 + transfer - 1)) *\\\n",
    "                                        (1 - self.poisson_distr2.cdf(ip2 - transfer - 1))\n",
    "                                    zeroreward: float = added_reward - self.stockout_cost1 *\\\n",
    "                                        (zeroprob * (self.poisson_lambda1 - ip1) +\n",
    "                                        ip1 * self.poisson_distr1.pmf(ip1)) - self.stockout_cost2 *\\\n",
    "                                        (zeroprob * (self.poisson_lambda2 - ip2) +\n",
    "                                        ip2 * self.poisson_distr2.pmf(ip2))\n",
    "                                    sr_probs_dict[(InventoryState(0, order1, 0, order2)), zeroreward] =\\\n",
    "                                        zeroprob\n",
    "\n",
    "                                    d1[order] = Categorical(sr_probs_dict)\n",
    "\n",
    "                        d[state] = d1\n",
    "        return d"
   ]
  },
  {
   "cell_type": "code",
   "execution_count": 14,
   "metadata": {},
   "outputs": [],
   "source": [
    "two_stores: FiniteMarkovDecisionProcess[InventoryState, int] =\\\n",
    "    ComplexInventoryMDPCap(\n",
    "        capacity1= 2,\n",
    "        capacity2= 4,\n",
    "        poisson_lambda1= 1,\n",
    "        poisson_lambda2= 2,\n",
    "        holding_cost1= 1,\n",
    "        holding_cost2= 2,\n",
    "        stockout_cost1= 10,\n",
    "        stockout_cost2= 20,\n",
    "        transport_cost= 5,\n",
    "        transfer_cost= 2\n",
    "    )\n",
    "\n",
    "gamma = 1.0\n",
    "\n",
    "result = policy_iteration_result(two_stores, gamma)"
   ]
  },
  {
   "cell_type": "code",
   "execution_count": 15,
   "metadata": {},
   "outputs": [
    {
     "name": "stdout",
     "output_type": "stream",
     "text": [
      "({NonTerminal(state=InventoryState(on_hand1=0, on_order1=0, on_hand2=0, on_order2=0)): -55.0, NonTerminal(state=InventoryState(on_hand1=0, on_order1=0, on_hand2=0, on_order2=1)): -52.41986724186063, NonTerminal(state=InventoryState(on_hand1=0, on_order1=0, on_hand2=0, on_order2=2)): -36.69508941781737, NonTerminal(state=InventoryState(on_hand1=0, on_order1=0, on_hand2=0, on_order2=3)): -28.21999369744554, NonTerminal(state=InventoryState(on_hand1=0, on_order1=0, on_hand2=1, on_order2=0)): -49.46680354085582, NonTerminal(state=InventoryState(on_hand1=0, on_order1=0, on_hand2=1, on_order2=1)): -38.69508941781737, NonTerminal(state=InventoryState(on_hand1=0, on_order1=0, on_hand2=1, on_order2=2)): -30.21999369744554, NonTerminal(state=InventoryState(on_hand1=0, on_order1=0, on_hand2=2, on_order2=0)): -36.00829277047814, NonTerminal(state=InventoryState(on_hand1=0, on_order1=0, on_hand2=2, on_order2=1)): -32.21999369744554, NonTerminal(state=InventoryState(on_hand1=0, on_order1=0, on_hand2=3, on_order2=0)): -31.850842449301922, NonTerminal(state=InventoryState(on_hand1=0, on_order1=1, on_hand2=0, on_order2=0)): -28.721908944561925, NonTerminal(state=InventoryState(on_hand1=0, on_order1=1, on_hand2=0, on_order2=1)): -42.90045597051062, NonTerminal(state=InventoryState(on_hand1=0, on_order1=1, on_hand2=0, on_order2=2)): -40.1284471135661, NonTerminal(state=InventoryState(on_hand1=0, on_order1=1, on_hand2=0, on_order2=3)): -33.498519191221064, NonTerminal(state=InventoryState(on_hand1=0, on_order1=1, on_hand2=1, on_order2=0)): -33.029728788456524, NonTerminal(state=InventoryState(on_hand1=0, on_order1=1, on_hand2=1, on_order2=1)): -30.10346932748058, NonTerminal(state=InventoryState(on_hand1=0, on_order1=1, on_hand2=1, on_order2=2)): -25.90143340299793, NonTerminal(state=InventoryState(on_hand1=0, on_order1=1, on_hand2=2, on_order2=0)): -22.31691656603412, NonTerminal(state=InventoryState(on_hand1=0, on_order1=1, on_hand2=2, on_order2=1)): -17.700664005204466, NonTerminal(state=InventoryState(on_hand1=0, on_order1=1, on_hand2=3, on_order2=0)): -12.281862640203196, NonTerminal(state=InventoryState(on_hand1=0, on_order1=2, on_hand2=0, on_order2=0)): -18.893612453731627, NonTerminal(state=InventoryState(on_hand1=0, on_order1=2, on_hand2=0, on_order2=1)): -32.78784449780089, NonTerminal(state=InventoryState(on_hand1=0, on_order1=2, on_hand2=0, on_order2=2)): -34.395432744441024, NonTerminal(state=InventoryState(on_hand1=0, on_order1=2, on_hand2=0, on_order2=3)): -33.19906110569361, NonTerminal(state=InventoryState(on_hand1=0, on_order1=2, on_hand2=1, on_order2=0)): -28.004026487043095, NonTerminal(state=InventoryState(on_hand1=0, on_order1=2, on_hand2=1, on_order2=1)): -26.8875658120338, NonTerminal(state=InventoryState(on_hand1=0, on_order1=2, on_hand2=1, on_order2=2)): -22.704414858548514, NonTerminal(state=InventoryState(on_hand1=0, on_order1=2, on_hand2=2, on_order2=0)): -14.906583316974885, NonTerminal(state=InventoryState(on_hand1=0, on_order1=2, on_hand2=2, on_order2=1)): -9.808142981874344, NonTerminal(state=InventoryState(on_hand1=0, on_order1=2, on_hand2=3, on_order2=0)): -10.293036136308698, NonTerminal(state=InventoryState(on_hand1=1, on_order1=0, on_hand2=0, on_order2=0)): -29.72190894456192, NonTerminal(state=InventoryState(on_hand1=1, on_order1=0, on_hand2=0, on_order2=1)): -43.90045597051062, NonTerminal(state=InventoryState(on_hand1=1, on_order1=0, on_hand2=0, on_order2=2)): -29.756649653390514, NonTerminal(state=InventoryState(on_hand1=1, on_order1=0, on_hand2=0, on_order2=3)): -23.488396585871246, NonTerminal(state=InventoryState(on_hand1=1, on_order1=0, on_hand2=1, on_order2=0)): -34.029728788456524, NonTerminal(state=InventoryState(on_hand1=1, on_order1=0, on_hand2=1, on_order2=1)): -31.10346932748058, NonTerminal(state=InventoryState(on_hand1=1, on_order1=0, on_hand2=1, on_order2=2)): -25.488396585871243, NonTerminal(state=InventoryState(on_hand1=1, on_order1=0, on_hand2=2, on_order2=0)): -23.31691656603412, NonTerminal(state=InventoryState(on_hand1=1, on_order1=0, on_hand2=2, on_order2=1)): -18.700664005204466, NonTerminal(state=InventoryState(on_hand1=1, on_order1=0, on_hand2=3, on_order2=0)): -13.281862640203196, NonTerminal(state=InventoryState(on_hand1=1, on_order1=1, on_hand2=0, on_order2=0)): -19.893612453731627, NonTerminal(state=InventoryState(on_hand1=1, on_order1=1, on_hand2=0, on_order2=1)): -33.78784449780089, NonTerminal(state=InventoryState(on_hand1=1, on_order1=1, on_hand2=0, on_order2=2)): -27.154533840630794, NonTerminal(state=InventoryState(on_hand1=1, on_order1=1, on_hand2=0, on_order2=3)): -26.862643092461155, NonTerminal(state=InventoryState(on_hand1=1, on_order1=1, on_hand2=1, on_order2=0)): -29.004026487043095, NonTerminal(state=InventoryState(on_hand1=1, on_order1=1, on_hand2=1, on_order2=1)): -27.8875658120338, NonTerminal(state=InventoryState(on_hand1=1, on_order1=1, on_hand2=1, on_order2=2)): -23.70441485854851, NonTerminal(state=InventoryState(on_hand1=1, on_order1=1, on_hand2=2, on_order2=0)): -15.906583316974885, NonTerminal(state=InventoryState(on_hand1=1, on_order1=1, on_hand2=2, on_order2=1)): -10.808142981874346, NonTerminal(state=InventoryState(on_hand1=1, on_order1=1, on_hand2=3, on_order2=0)): -11.293036136308698, NonTerminal(state=InventoryState(on_hand1=2, on_order1=0, on_hand2=0, on_order2=0)): -20.893612453731627, NonTerminal(state=InventoryState(on_hand1=2, on_order1=0, on_hand2=0, on_order2=1)): -30.406368260109993, NonTerminal(state=InventoryState(on_hand1=2, on_order1=0, on_hand2=0, on_order2=2)): -18.289650782100914, NonTerminal(state=InventoryState(on_hand1=2, on_order1=0, on_hand2=0, on_order2=3)): -11.503687025102652, NonTerminal(state=InventoryState(on_hand1=2, on_order1=0, on_hand2=1, on_order2=0)): -30.00402648704309, NonTerminal(state=InventoryState(on_hand1=2, on_order1=0, on_hand2=1, on_order2=1)): -20.28965078210091, NonTerminal(state=InventoryState(on_hand1=2, on_order1=0, on_hand2=1, on_order2=2)): -13.50368702510265, NonTerminal(state=InventoryState(on_hand1=2, on_order1=0, on_hand2=2, on_order2=0)): -16.906583316974885, NonTerminal(state=InventoryState(on_hand1=2, on_order1=0, on_hand2=2, on_order2=1)): -11.808142981874344, NonTerminal(state=InventoryState(on_hand1=2, on_order1=0, on_hand2=3, on_order2=0)): -12.293036136308697}, For State InventoryState(on_hand1=0, on_order1=0, on_hand2=0, on_order2=0): Do Action (0, 4, 0)\n",
      "For State InventoryState(on_hand1=0, on_order1=0, on_hand2=0, on_order2=1): Do Action (2, 0, 0)\n",
      "For State InventoryState(on_hand1=0, on_order1=0, on_hand2=0, on_order2=2): Do Action (2, 0, 0)\n",
      "For State InventoryState(on_hand1=0, on_order1=0, on_hand2=0, on_order2=3): Do Action (2, 0, 0)\n",
      "For State InventoryState(on_hand1=0, on_order1=0, on_hand2=1, on_order2=0): Do Action (2, 0, 1)\n",
      "For State InventoryState(on_hand1=0, on_order1=0, on_hand2=1, on_order2=1): Do Action (2, 0, 0)\n",
      "For State InventoryState(on_hand1=0, on_order1=0, on_hand2=1, on_order2=2): Do Action (2, 0, 0)\n",
      "For State InventoryState(on_hand1=0, on_order1=0, on_hand2=2, on_order2=0): Do Action (2, 0, 2)\n",
      "For State InventoryState(on_hand1=0, on_order1=0, on_hand2=2, on_order2=1): Do Action (2, 0, 0)\n",
      "For State InventoryState(on_hand1=0, on_order1=0, on_hand2=3, on_order2=0): Do Action (2, 0, 3)\n",
      "For State InventoryState(on_hand1=0, on_order1=1, on_hand2=0, on_order2=0): Do Action (0, 4, 0)\n",
      "For State InventoryState(on_hand1=0, on_order1=1, on_hand2=0, on_order2=1): Do Action (0, 3, 0)\n",
      "For State InventoryState(on_hand1=0, on_order1=1, on_hand2=0, on_order2=2): Do Action (1, 0, 0)\n",
      "For State InventoryState(on_hand1=0, on_order1=1, on_hand2=0, on_order2=3): Do Action (1, 0, 0)\n",
      "For State InventoryState(on_hand1=0, on_order1=1, on_hand2=1, on_order2=0): Do Action (1, 0, 1)\n",
      "For State InventoryState(on_hand1=0, on_order1=1, on_hand2=1, on_order2=1): Do Action (1, 0, 1)\n",
      "For State InventoryState(on_hand1=0, on_order1=1, on_hand2=1, on_order2=2): Do Action (1, 0, 1)\n",
      "For State InventoryState(on_hand1=0, on_order1=1, on_hand2=2, on_order2=0): Do Action (0, 0, 2)\n",
      "For State InventoryState(on_hand1=0, on_order1=1, on_hand2=2, on_order2=1): Do Action (0, 0, 2)\n",
      "For State InventoryState(on_hand1=0, on_order1=1, on_hand2=3, on_order2=0): Do Action (0, 0, 3)\n",
      "For State InventoryState(on_hand1=0, on_order1=2, on_hand2=0, on_order2=0): Do Action (0, 4, 0)\n",
      "For State InventoryState(on_hand1=0, on_order1=2, on_hand2=0, on_order2=1): Do Action (0, 3, 0)\n",
      "For State InventoryState(on_hand1=0, on_order1=2, on_hand2=0, on_order2=2): Do Action (0, 2, 0)\n",
      "For State InventoryState(on_hand1=0, on_order1=2, on_hand2=0, on_order2=3): Do Action (0, 0, 0)\n",
      "For State InventoryState(on_hand1=0, on_order1=2, on_hand2=1, on_order2=0): Do Action (0, 3, 1)\n",
      "For State InventoryState(on_hand1=0, on_order1=2, on_hand2=1, on_order2=1): Do Action (0, 0, 1)\n",
      "For State InventoryState(on_hand1=0, on_order1=2, on_hand2=1, on_order2=2): Do Action (0, 0, 1)\n",
      "For State InventoryState(on_hand1=0, on_order1=2, on_hand2=2, on_order2=0): Do Action (0, 0, 2)\n",
      "For State InventoryState(on_hand1=0, on_order1=2, on_hand2=2, on_order2=1): Do Action (0, 0, 2)\n",
      "For State InventoryState(on_hand1=0, on_order1=2, on_hand2=3, on_order2=0): Do Action (0, 0, 3)\n",
      "For State InventoryState(on_hand1=1, on_order1=0, on_hand2=0, on_order2=0): Do Action (0, 4, 0)\n",
      "For State InventoryState(on_hand1=1, on_order1=0, on_hand2=0, on_order2=1): Do Action (0, 3, 0)\n",
      "For State InventoryState(on_hand1=1, on_order1=0, on_hand2=0, on_order2=2): Do Action (0, 2, -1)\n",
      "For State InventoryState(on_hand1=1, on_order1=0, on_hand2=0, on_order2=3): Do Action (1, 1, -1)\n",
      "For State InventoryState(on_hand1=1, on_order1=0, on_hand2=1, on_order2=0): Do Action (1, 0, 1)\n",
      "For State InventoryState(on_hand1=1, on_order1=0, on_hand2=1, on_order2=1): Do Action (1, 0, 1)\n",
      "For State InventoryState(on_hand1=1, on_order1=0, on_hand2=1, on_order2=2): Do Action (1, 1, -1)\n",
      "For State InventoryState(on_hand1=1, on_order1=0, on_hand2=2, on_order2=0): Do Action (0, 0, 2)\n",
      "For State InventoryState(on_hand1=1, on_order1=0, on_hand2=2, on_order2=1): Do Action (0, 0, 2)\n",
      "For State InventoryState(on_hand1=1, on_order1=0, on_hand2=3, on_order2=0): Do Action (0, 0, 3)\n",
      "For State InventoryState(on_hand1=1, on_order1=1, on_hand2=0, on_order2=0): Do Action (0, 4, 0)\n",
      "For State InventoryState(on_hand1=1, on_order1=1, on_hand2=0, on_order2=1): Do Action (0, 3, 0)\n",
      "For State InventoryState(on_hand1=1, on_order1=1, on_hand2=0, on_order2=2): Do Action (0, 2, -1)\n",
      "For State InventoryState(on_hand1=1, on_order1=1, on_hand2=0, on_order2=3): Do Action (0, 1, -1)\n",
      "For State InventoryState(on_hand1=1, on_order1=1, on_hand2=1, on_order2=0): Do Action (0, 3, 1)\n",
      "For State InventoryState(on_hand1=1, on_order1=1, on_hand2=1, on_order2=1): Do Action (0, 0, 1)\n",
      "For State InventoryState(on_hand1=1, on_order1=1, on_hand2=1, on_order2=2): Do Action (0, 0, 1)\n",
      "For State InventoryState(on_hand1=1, on_order1=1, on_hand2=2, on_order2=0): Do Action (0, 0, 2)\n",
      "For State InventoryState(on_hand1=1, on_order1=1, on_hand2=2, on_order2=1): Do Action (0, 0, 2)\n",
      "For State InventoryState(on_hand1=1, on_order1=1, on_hand2=3, on_order2=0): Do Action (0, 0, 3)\n",
      "For State InventoryState(on_hand1=2, on_order1=0, on_hand2=0, on_order2=0): Do Action (0, 4, 0)\n",
      "For State InventoryState(on_hand1=2, on_order1=0, on_hand2=0, on_order2=1): Do Action (0, 3, -2)\n",
      "For State InventoryState(on_hand1=2, on_order1=0, on_hand2=0, on_order2=2): Do Action (0, 2, -2)\n",
      "For State InventoryState(on_hand1=2, on_order1=0, on_hand2=0, on_order2=3): Do Action (0, 1, -2)\n",
      "For State InventoryState(on_hand1=2, on_order1=0, on_hand2=1, on_order2=0): Do Action (0, 3, 1)\n",
      "For State InventoryState(on_hand1=2, on_order1=0, on_hand2=1, on_order2=1): Do Action (0, 2, -2)\n",
      "For State InventoryState(on_hand1=2, on_order1=0, on_hand2=1, on_order2=2): Do Action (0, 1, -2)\n",
      "For State InventoryState(on_hand1=2, on_order1=0, on_hand2=2, on_order2=0): Do Action (0, 0, 2)\n",
      "For State InventoryState(on_hand1=2, on_order1=0, on_hand2=2, on_order2=1): Do Action (0, 0, 2)\n",
      "For State InventoryState(on_hand1=2, on_order1=0, on_hand2=3, on_order2=0): Do Action (0, 0, 3)\n",
      ")\n"
     ]
    }
   ],
   "source": [
    "print(result)"
   ]
  }
 ],
 "metadata": {
  "interpreter": {
   "hash": "579dcdfb899fc187fdf97538744cc3a387eca9f5084bb8d1591af8d2d48fab3d"
  },
  "kernelspec": {
   "display_name": "Python 3.9.9 64-bit ('.venv': venv)",
   "language": "python",
   "name": "python3"
  },
  "language_info": {
   "codemirror_mode": {
    "name": "ipython",
    "version": 3
   },
   "file_extension": ".py",
   "mimetype": "text/x-python",
   "name": "python",
   "nbconvert_exporter": "python",
   "pygments_lexer": "ipython3",
   "version": "3.9.10"
  },
  "orig_nbformat": 4
 },
 "nbformat": 4,
 "nbformat_minor": 2
}
