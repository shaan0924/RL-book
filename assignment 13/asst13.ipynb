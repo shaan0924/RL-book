{
 "cells": [
  {
   "cell_type": "markdown",
   "metadata": {},
   "source": [
    "# CME 241 Assignment 13"
   ]
  },
  {
   "cell_type": "markdown",
   "metadata": {},
   "source": [
    "## Shaan Patel"
   ]
  },
  {
   "cell_type": "markdown",
   "metadata": {},
   "source": [
    "### Question 1"
   ]
  },
  {
   "cell_type": "code",
   "execution_count": 2,
   "metadata": {},
   "outputs": [],
   "source": [
    "from typing import Iterable, Iterator, TypeVar, Mapping\n",
    "import rl.markov_decision_process as mp\n",
    "from rl.returns import returns\n",
    "from collections import defaultdict"
   ]
  },
  {
   "cell_type": "code",
   "execution_count": 4,
   "metadata": {},
   "outputs": [],
   "source": [
    "S = TypeVar('S')\n",
    "A = TypeVar('A')\n",
    "\n",
    "def tabular_mc_glie(\n",
    "    traces: Iterable[Iterable[mp.TransitionStep[S,A]]],\n",
    "    approx_0: Mapping[S,Mapping[A,float]],\n",
    "    approx_pol: Mapping[S,Mapping[A,float]],\n",
    "    gamma: float,\n",
    "    episode_length_tolerance: float = 1e-6\n",
    ") -> Iterator[Mapping[S,Mapping[A,float]]]:\n",
    "\n",
    "    counts = defaultdict(lambda: 0)\n",
    "    k = 0\n",
    "\n",
    "    episodes: Iterator[Iterator[mp.ReturnStep[S]]] =\\\n",
    "        (returns(trace, gamma, episode_length_tolerance) for trace in traces)\n",
    "    f = approx_0\n",
    "    pi = approx_pol\n",
    "    yield pi\n",
    "\n",
    "    for episode in episodes:\n",
    "        for s in episode:\n",
    "            for a,r in episode[s]:\n",
    "                counts[(s,a)] += 1\n",
    "                f[s][a] += (1/counts[(s,a)])*(r - f[s][a])\n",
    "        k += 1\n",
    "        for s in f:\n",
    "            maxpol = max(f[s], key = f[s].get)\n",
    "            for a in f[s]:\n",
    "                if a == maxpol:\n",
    "                    pi[s][a] = (1/(k*len(f[s]))) + 1 - (1/k)\n",
    "                else:\n",
    "                    pi[s][a] = 1/(k*len(f[s]))\n",
    "        yield pi\n",
    "\n",
    "\n",
    "            \n",
    "\n"
   ]
  }
 ],
 "metadata": {
  "interpreter": {
   "hash": "579dcdfb899fc187fdf97538744cc3a387eca9f5084bb8d1591af8d2d48fab3d"
  },
  "kernelspec": {
   "display_name": "Python 3.9.10 ('.venv': venv)",
   "language": "python",
   "name": "python3"
  },
  "language_info": {
   "codemirror_mode": {
    "name": "ipython",
    "version": 3
   },
   "file_extension": ".py",
   "mimetype": "text/x-python",
   "name": "python",
   "nbconvert_exporter": "python",
   "pygments_lexer": "ipython3",
   "version": "3.9.10"
  },
  "orig_nbformat": 4
 },
 "nbformat": 4,
 "nbformat_minor": 2
}
