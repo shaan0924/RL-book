{
 "cells": [
  {
   "cell_type": "markdown",
   "metadata": {},
   "source": [
    "# CME 241 Assignment 9"
   ]
  },
  {
   "cell_type": "markdown",
   "metadata": {},
   "source": [
    "## Shaan Patel"
   ]
  },
  {
   "cell_type": "markdown",
   "metadata": {},
   "source": [
    "### Question 1"
   ]
  },
  {
   "cell_type": "code",
   "execution_count": 10,
   "metadata": {},
   "outputs": [],
   "source": [
    "from typing import Dict, Tuple\n",
    "from rl.chapter9.order_book import DollarsAndShares, PriceSizePairs, OrderBook\n",
    "from rl.distribution import Distribution\n",
    "from rl.markov_process import MarkovRewardProcess, NonTerminal, State\n",
    "from numpy.random import poisson\n",
    "from scipy.stats import poisson as pois"
   ]
  },
  {
   "cell_type": "code",
   "execution_count": null,
   "metadata": {},
   "outputs": [],
   "source": [
    "bids: PriceSizePairs = [DollarsAndShares(\n",
    "        dollars=x,\n",
    "        shares=poisson(100. - (100 - x) * 10)\n",
    "    ) for x in range(100, 90, -1)]\n",
    "asks: PriceSizePairs = [DollarsAndShares(\n",
    "        dollars=x,\n",
    "        shares=poisson(100. - (x - 105) * 10)\n",
    "    ) for x in range(105, 115, 1)]\n",
    "\n",
    "ob = OrderBook(descending_bids=bids, ascending_asks=asks)\n",
    "\n",
    "class OBDynam(MarkovRewardProcess[OrderBook, DollarsAndShares]):\n",
    "    def transition(self, state: OrderBook) -> Distribution[Tuple[OrderBook, DollarsAndShares]]:\n",
    "        d: Dict[Tuple[OrderBook, DollarsAndShares], float] = {}\n",
    "        bidshares = 0\n",
    "        for i in range(len(state.descending_bids)):\n",
    "            bidshares += state.descending_bids[i].shares\n",
    "        askshares = 0\n",
    "        for i in range(len(state.ascending_asks)):\n",
    "            askshares += state.ascending_asks[i].shares\n",
    "        \n",
    "        poisson_distr = pois(state.mid_price)\n",
    "        \n",
    "        \n",
    "        \n"
   ]
  },
  {
   "cell_type": "code",
   "execution_count": null,
   "metadata": {},
   "outputs": [],
   "source": []
  }
 ],
 "metadata": {
  "interpreter": {
   "hash": "579dcdfb899fc187fdf97538744cc3a387eca9f5084bb8d1591af8d2d48fab3d"
  },
  "kernelspec": {
   "display_name": "Python 3.9.10 64-bit ('.venv': venv)",
   "language": "python",
   "name": "python3"
  },
  "language_info": {
   "codemirror_mode": {
    "name": "ipython",
    "version": 3
   },
   "file_extension": ".py",
   "mimetype": "text/x-python",
   "name": "python",
   "nbconvert_exporter": "python",
   "pygments_lexer": "ipython3",
   "version": "3.9.10"
  },
  "orig_nbformat": 4
 },
 "nbformat": 4,
 "nbformat_minor": 2
}
