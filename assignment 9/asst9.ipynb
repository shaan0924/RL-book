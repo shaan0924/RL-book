{
 "cells": [
  {
   "cell_type": "markdown",
   "metadata": {},
   "source": [
    "# CME 241 Assignment 9"
   ]
  },
  {
   "cell_type": "markdown",
   "metadata": {},
   "source": [
    "## Shaan Patel"
   ]
  },
  {
   "cell_type": "markdown",
   "metadata": {},
   "source": [
    "### Question 1"
   ]
  },
  {
   "cell_type": "code",
   "execution_count": 16,
   "metadata": {},
   "outputs": [],
   "source": [
    "from abc import abstractmethod\n",
    "from typing import Dict, Tuple\n",
    "from rl.chapter9.order_book import DollarsAndShares, PriceSizePairs, OrderBook\n",
    "from rl.distribution import Distribution, Categorical\n",
    "from rl.markov_process import MarkovProcess, NonTerminal, State\n",
    "from numpy.random import poisson, random_sample"
   ]
  },
  {
   "cell_type": "code",
   "execution_count": 17,
   "metadata": {},
   "outputs": [],
   "source": [
    "class LimitOrder(Distribution[OrderBook]):\n",
    "    def __init__(self, book: OrderBook):\n",
    "        self.book = book\n",
    "    \n",
    "    @abstractmethod\n",
    "    def sample(self):\n",
    "        x = random_sample()\n",
    "        num_shares = poisson(1)\n",
    "        if x > 0.5:\n",
    "            price = self.book.ask_price()*random_sample()\n",
    "            ret_tuple = self.book.sell_limit_order(price, num_shares)\n",
    "            return ret_tuple[1]\n",
    "        else:\n",
    "            price = 10*random_sample() + self.book.bid_price()\n",
    "            ret_tuple = self.book.buy_limit_order(price, num_shares)\n",
    "            return ret_tuple[1]\n",
    "\n",
    "class MarketOrder(Distribution[OrderBook]):\n",
    "    def __init__(self, book: OrderBook):\n",
    "        self.book = book\n",
    "\n",
    "    def sample(self):\n",
    "        x = random_sample()\n",
    "        num_shares = poisson(1)\n",
    "        if x > 0.5:\n",
    "            ret_tuple = self.book.sell_market_order(num_shares)\n",
    "            return ret_tuple[1]\n",
    "        else:\n",
    "            ret_tuple = self.book.buy_market_order(num_shares)\n",
    "            return ret_tuple[1]\n",
    "\n",
    "\n",
    "\n",
    "class OBDynam(MarkovProcess[OrderBook]):\n",
    "    def transition(self, state: OrderBook) -> Distribution[OrderBook]:\n",
    "        x = random_sample()\n",
    "        if x > 0.5:\n",
    "            LO = LimitOrder[state]\n",
    "            return LO\n",
    "        else:\n",
    "            MO = MarketOrder[state]\n",
    "            return MO\n",
    "        \n"
   ]
  },
  {
   "cell_type": "code",
   "execution_count": 18,
   "metadata": {},
   "outputs": [],
   "source": [
    "bids: PriceSizePairs = [DollarsAndShares(\n",
    "        dollars=x,\n",
    "        shares=poisson(100. - (100 - x) * 10)\n",
    "    ) for x in range(100, 90, -1)]\n",
    "asks: PriceSizePairs = [DollarsAndShares(\n",
    "        dollars=x,\n",
    "        shares=poisson(100. - (x - 105) * 10)\n",
    "    ) for x in range(105, 115, 1)]\n",
    "\n",
    "ob0: OrderBook = OrderBook(descending_bids=bids, ascending_asks=asks)\n",
    "\n",
    "dynam = OBDynam()"
   ]
  },
  {
   "cell_type": "markdown",
   "metadata": {},
   "source": [
    "### Question 2"
   ]
  },
  {
   "cell_type": "markdown",
   "metadata": {},
   "source": [
    "Given that we have a temporary price impact of:\n",
    "\n",
    "$$Q_t = P_t (1- \\beta N_t - \\theta X_t) $$\n",
    "\n",
    "The optimal value function is:\n",
    "\n",
    "$$V^*_t((P_t, R_t)) = \\max_{N_t} \\{N_t P_t(1 - \\beta N_t - \\theta X_t) + E[V^*_{t+1}((P_{t+1},R_{t+1}))]\\} $$\n",
    "\n",
    "$$V^*_{T-1}((P_{T-1}, R_{T-1})) = N_{T-1} P_{T-1}(1 - \\beta N_{T-1} - \\theta X_{T-1})$$\n",
    "\n",
    "$$ = R_{T-1} P_{T-1}(1 - \\beta R_{T-1} - \\theta X_{T-1}) $$"
   ]
  },
  {
   "cell_type": "markdown",
   "metadata": {},
   "source": [
    "Therefore we can infer $V^*_{T-2}((P_{T-2}, R_{T-2}))$ as:\n",
    "\n",
    "$$\\max_{N_{T-2}}\\{N_{T-2}P_{T-2}(1 - \\beta N_{T-2} - \\theta X_{T-2}) + E[R_{T-1} P_{T-1}(1 - \\beta R_{T-1} - \\theta X_{T-1})]\\} $$\n",
    "\n",
    "$$\\max_{N_{T-2}}\\{N_{T-2}P_{T-2}(1 - \\beta N_{T-2} - \\theta X_{T-2}) $$\n",
    "$$+ E[(R_{T-2} - N_{T-2}) P_{T-1}(1 - \\beta (R_{T-2} - N_{T-2}) - \\theta X_{T-1})]\\} $$"
   ]
  },
  {
   "cell_type": "markdown",
   "metadata": {},
   "source": [
    "This leads to:\n",
    "\n",
    "$$ \\max_{N_{T-2}}N_{T-2}P_{T-2}(1 - \\beta N_{T-2} - \\theta X_{T-2}) \\\\\n",
    "+ E[(R_{T-2} - N_{T-2}) (P_{T-2}e^{Z_{T-2}})(1 - \\beta (R_{T-2} - N_{T-2}) - \\theta (\\rho X_{T-2} + \\eta_{T-2}))] $$"
   ]
  },
  {
   "cell_type": "markdown",
   "metadata": {},
   "source": [
    "The expected value is removed because we know the means of our random variables. By grouping like terms, we get:\n",
    "\n",
    "$$ \\max_{N_{T_2}} N_{T-2}P_{T-2}(1 - e^{\\mu_Z + \\frac{\\sigma_Z^2}{2}}) - \\beta N^2_{T-2}P_{T-2} (1 + e^{\\mu_Z + \\frac{\\sigma_Z^2}{2}}) \\\\\n",
    " - \\beta P_{T-2}e^{\\mu_Z + \\frac{\\sigma_Z^2}{2}} (R^2_{T-2} - 2N_{T-2}R_{T-2}) \\\\\n",
    "  - \\theta N_{T-2}P_{T-2}X_{T-2}(1 - \\rho e^{\\mu_Z + \\frac{\\sigma_Z^2}{2}}) - \\theta \\rho  R_{T-2} P_{T-2} X_{T-2} e^{\\mu_Z + \\frac{\\sigma_Z^2}{2}}$$"
   ]
  },
  {
   "cell_type": "markdown",
   "metadata": {},
   "source": [
    "Taking the derivative with respect to $N_{T-2}$, we get:\n",
    "\n",
    "$$ P_{T-2}(1 - e^{\\mu_Z + \\frac{\\sigma_Z^2}{2}}) - 2\\beta N_{T-2}P_{T-2}(1 + e^{\\mu_Z + \\frac{\\sigma_Z^2}{2}}) \\\\\n",
    "+ 2\\beta P_{T-2}R_{T-2}e^{\\mu_Z + \\frac{\\sigma_Z^2}{2}} \\\\\n",
    " - \\theta P_{T-2}X_{T-2}(1 - \\rho e^{\\mu_Z + \\frac{\\sigma_Z^2}{2}}) = 0 $$"
   ]
  },
  {
   "cell_type": "markdown",
   "metadata": {},
   "source": [
    "$$ \\Rarr N^*_{T-2} = \\frac{1 - e^{\\mu_Z + \\frac{\\sigma_Z^2}{2}}}{2\\beta(1 + e^{\\mu_Z + \\frac{\\sigma_Z^2}{2}})} + \\frac{R_{T-2}e^{\\mu_Z + \\frac{\\sigma_Z^2}{2}}}{1 + e^{\\mu_Z + \\frac{\\sigma_Z^2}{2}}} - \\frac{\\theta X_{T-2}(1 - \\rho e^{\\mu_Z + \\frac{\\sigma_Z^2}{2}})}{2\\beta(1 + e^{\\mu_Z + \\frac{\\sigma_Z^2}{2}})} $$"
   ]
  },
  {
   "cell_type": "markdown",
   "metadata": {},
   "source": [
    "Setting the constant term and coefficients to $ c^{(1)}_{T-2}$, $c^{(2)}_{T-2}$, and $c^{(3)}_{T-2}$ respectively, we get:\n",
    "\n",
    "$$ N^*_{T-2} =  c^{(1)}_{T-2} + c^{(2)}_{T-2}R_{T-2} + c^{(3)}_{T-2}X_{T-2} $$"
   ]
  },
  {
   "cell_type": "markdown",
   "metadata": {},
   "source": [
    "Thus, the Value Function becomes:\n",
    "\n",
    "$$ V((P_{T-2},R_{T-2},X_{T-2})) = P_{T-2}e^{\\mu_Z + \\frac{\\sigma^2_Z}{2}} (N^*_{T-2}(e^{-\\mu_Z - \\frac{\\sigma^2_Z}{2}} - 1) - \\beta N^*_{T-2}(e^{-\\mu_Z - \\frac{\\sigma^2_Z}{2}} + 1) \\\\\n",
    "- \\beta R^2_{T-2} - 2N^*_{T-2}R_{T-2} - \\theta N^*_{T-2} X_{T-2}(e^{-\\mu_Z - \\frac{\\sigma^2_Z}{2}} - \\rho) - \\theta \\rho R_{T-2}X_{T-2}) $$"
   ]
  },
  {
   "cell_type": "markdown",
   "metadata": {},
   "source": [
    "We will denote $(e^{-\\mu_Z - \\frac{\\sigma^2_Z}{2}} - 1) $ as $\\alpha$, $(e^{-\\mu_Z - \\frac{\\sigma^2_Z}{2}} + 1) $ as $ \\gamma$, and $(e^{-\\mu_Z - \\frac{\\sigma^2_Z}{2}} - \\rho) $ as $v$. This gives us:\n",
    "\n",
    "$$ V_{T-2} = P_{T-2}e^{\\mu_Z + \\frac{\\sigma^2_Z}{2}}(\\alpha N^*_{T-2} - \\beta \\gamma N^*_{T-2} - \\beta R^2_{T-2} - 2N^*_{T-2}R_{T-2} \\\\\n",
    " - \\theta v N^*_{T-2} X_{T-2} - \\theta \\rho R_{T-2} X_{T-2}) $$\n",
    "\n",
    " $$\\Rarr P_{T-2}e^{\\mu_Z + \\frac{\\sigma^2_Z}{2}}(N^*_{T-2}(\\alpha - \\beta \\gamma - 2 R_{T-2} - \\theta v X_{T-2}) - \\beta R^2_{T-2} - \\theta \\rho R_{T-2}X_{T-2}) $$\n",
    "\n",
    " $$\\Rarr  P_{T-2}e^{\\mu_Z + \\frac{\\sigma^2_Z}{2}} ((c^{(1)}_{T-2} + c^{(2)}_{T-2}R_{T-2} + c^{(3)}_{T-2}X_{T-2})(\\alpha - \\beta \\gamma - 2 R_{T-2} - \\theta v X_{T-2}) \\\\\n",
    " - \\beta R^2_{T-2} - \\theta \\rho R_{T-2}X_{T-2}) $$"
   ]
  },
  {
   "cell_type": "markdown",
   "metadata": {},
   "source": [
    "When grouping terms we can assign the coefficients as constants:\n",
    "\n",
    "$$\\Rarr P_{T-2}e^{\\mu_Z + \\frac{\\sigma^2_Z}{2}}(c^{(4)}_{T-2} + c^{(5)}_{T-2} R_{T-2} + c^{(6)}_{T-2} X_{T-2} + c^{(7)}_{T-2}R^2_{T-2} \\\\\n",
    " + c^{(8)}_{T-2} X^2_{T-2} + c^{(9)}_{T-2} R_{T-2} X_{T-2}) $$"
   ]
  },
  {
   "cell_type": "markdown",
   "metadata": {},
   "source": [
    "Continuing backwards in time, we see that this generalized solution is the same for all $t$:\n",
    "\n",
    "$$ N^*_t =  c^{(1)}_t + c^{(2)}_t R_t + c^{(3)}_t X_t$$\n",
    "\n",
    "$$ V^*_t = P_t e^{\\mu_Z + \\frac{\\sigma^2_Z}{2}}(c^{(4)}_t + c^{(5)}_t R_t + c^{(6)}_t X_t + c^{(7)}_t R^2_t \\\\\n",
    " + c^{(8)}_t X^2_t + c^{(9)}_t R_t X_t)"
   ]
  },
  {
   "cell_type": "code",
   "execution_count": 23,
   "metadata": {},
   "outputs": [],
   "source": [
    "from rl.chapter9.optimal_order_execution import OptimalOrderExecution, PriceAndShares\n",
    "from rl.function_approx import FunctionApprox, LinearFunctionApprox\n",
    "from rl.distribution import Gaussian\n",
    "from rl.policy import DeterministicPolicy\n",
    "from rl.approximate_dynamic_programming import ValueFunctionApprox\n",
    "from typing import Tuple, Iterator\n",
    "from numpy.random import standard_normal\n",
    "from math import exp"
   ]
  },
  {
   "cell_type": "code",
   "execution_count": null,
   "metadata": {},
   "outputs": [],
   "source": [
    "init_price_mean: float = 100.0\n",
    "init_price_stdev: float = 10.0\n",
    "num_shares: int = 100\n",
    "num_time_steps: int = 5\n",
    "beta: float = 0.05\n",
    "theta: float = 0.05\n",
    "rho: float = 0.05\n",
    "\n",
    "x = []\n",
    "x.append(1)\n",
    "for i in range(1,num_time_steps):\n",
    "    x.append(rho*x[i-1] + standard_normal())\n",
    "\n",
    "stand_norm = Gaussian(0,1)\n",
    "\n",
    "\n",
    "\n",
    "price_diff = [lambda p_s: beta*p_s.shares + theta*x[i] for i in range(num_time_steps)]\n",
    "dynamics = [lambda p_s: p_s*Gaussian(0,1) for _ in range(num_time_steps)]\n",
    "ffs = [\n",
    "    lambda p_s: p_s.state.price * p_s.state.shares,\n",
    "    lambda p_s: float(p_s.state.shares * p_s.state.shares)\n",
    "]\n",
    "fa: FunctionApprox = LinearFunctionApprox.create(feature_functions=ffs)\n",
    "init_price_distrib: Gaussian = Gaussian(init_price_mean, init_price_stdev)\n",
    "\n",
    "ooe: OptimalOrderExecution = OptimalOrderExecution(\n",
    "    shares=num_shares,\n",
    "    time_steps=num_time_steps,\n",
    "    avg_exec_price_diff=price_diff,\n",
    "    price_dynamics=dynamics,\n",
    "    utility_func=lambda x: x,\n",
    "    discount_factor=1,\n",
    "    func_approx=fa,\n",
    "    initial_price_distribution=init_price_distrib\n",
    ")\n",
    "it_vf: Iterator[Tuple[ValueFunctionApprox[PriceAndShares],\n",
    "                        DeterministicPolicy[PriceAndShares, int]]] = \\\n",
    "    ooe.backward_induction_vf_and_pi()\n",
    "\n",
    "state: PriceAndShares = PriceAndShares(\n",
    "    price=init_price_mean,\n",
    "    shares=num_shares\n",
    ")\n",
    "print(\"Backward Induction: VF And Policy\")\n",
    "print(\"---------------------------------\")\n",
    "print()\n",
    "for t, (vf, pol) in enumerate(it_vf):\n",
    "    print(f\"Time {t:d}\")\n",
    "    print()\n",
    "    opt_sale: int = pol.action_for(state)\n",
    "    val: float = vf(NonTerminal(state))\n",
    "    print(f\"Optimal Sales = {opt_sale:d}, Opt Val = {val:.3f}\")\n",
    "    print()\n",
    "    print(\"Optimal Weights below:\")\n",
    "    print(vf.weights.weights)\n",
    "    print()\n",
    "\n",
    "\n"
   ]
  }
 ],
 "metadata": {
  "interpreter": {
   "hash": "579dcdfb899fc187fdf97538744cc3a387eca9f5084bb8d1591af8d2d48fab3d"
  },
  "kernelspec": {
   "display_name": "Python 3.9.10 64-bit ('.venv': venv)",
   "language": "python",
   "name": "python3"
  },
  "language_info": {
   "codemirror_mode": {
    "name": "ipython",
    "version": 3
   },
   "file_extension": ".py",
   "mimetype": "text/x-python",
   "name": "python",
   "nbconvert_exporter": "python",
   "pygments_lexer": "ipython3",
   "version": "3.9.10"
  },
  "orig_nbformat": 4
 },
 "nbformat": 4,
 "nbformat_minor": 2
}
