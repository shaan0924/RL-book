{
 "cells": [
  {
   "cell_type": "markdown",
   "metadata": {},
   "source": [
    "# CME 241 Assignment 9"
   ]
  },
  {
   "cell_type": "markdown",
   "metadata": {},
   "source": [
    "## Shaan Patel"
   ]
  },
  {
   "cell_type": "markdown",
   "metadata": {},
   "source": [
    "### Question 1"
   ]
  },
  {
   "cell_type": "code",
   "execution_count": 4,
   "metadata": {},
   "outputs": [],
   "source": [
    "from rl.chapter9.order_book import DollarsAndShares, PriceSizePairs, OrderBook\n",
    "import rl.markov_process\n",
    "from numpy.random import poisson"
   ]
  },
  {
   "cell_type": "code",
   "execution_count": 6,
   "metadata": {},
   "outputs": [],
   "source": [
    "bids: PriceSizePairs = [DollarsAndShares(\n",
    "        dollars=x,\n",
    "        shares=poisson(100. - (100 - x) * 10)\n",
    "    ) for x in range(100, 90, -1)]\n",
    "asks: PriceSizePairs = [DollarsAndShares(\n",
    "        dollars=x,\n",
    "        shares=poisson(100. - (x - 105) * 10)\n",
    "    ) for x in range(105, 115, 1)]\n",
    "\n",
    "ob = OrderBook(descending_bids=bids, ascending_asks=asks)"
   ]
  }
 ],
 "metadata": {
  "interpreter": {
   "hash": "579dcdfb899fc187fdf97538744cc3a387eca9f5084bb8d1591af8d2d48fab3d"
  },
  "kernelspec": {
   "display_name": "Python 3.9.10 64-bit ('.venv': venv)",
   "language": "python",
   "name": "python3"
  },
  "language_info": {
   "codemirror_mode": {
    "name": "ipython",
    "version": 3
   },
   "file_extension": ".py",
   "mimetype": "text/x-python",
   "name": "python",
   "nbconvert_exporter": "python",
   "pygments_lexer": "ipython3",
   "version": "3.9.10"
  },
  "orig_nbformat": 4
 },
 "nbformat": 4,
 "nbformat_minor": 2
}
