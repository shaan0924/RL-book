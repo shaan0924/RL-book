{
 "cells": [
  {
   "cell_type": "markdown",
   "metadata": {},
   "source": [
    "# CME 241 Assignment 9"
   ]
  },
  {
   "cell_type": "markdown",
   "metadata": {},
   "source": [
    "## Shaan Patel"
   ]
  },
  {
   "cell_type": "markdown",
   "metadata": {},
   "source": [
    "### Question 1"
   ]
  },
  {
   "cell_type": "code",
   "execution_count": 10,
   "metadata": {},
   "outputs": [],
   "source": [
    "from typing import Dict, Tuple\n",
    "from rl.chapter9.order_book import DollarsAndShares, PriceSizePairs, OrderBook\n",
    "from rl.distribution import Distribution\n",
    "from rl.markov_process import MarkovRewardProcess, NonTerminal, State\n",
    "from numpy.random import poisson\n",
    "from scipy.stats import poisson as pois"
   ]
  },
  {
   "cell_type": "code",
   "execution_count": null,
   "metadata": {},
   "outputs": [],
   "source": [
    "bids: PriceSizePairs = [DollarsAndShares(\n",
    "        dollars=x,\n",
    "        shares=poisson(100. - (100 - x) * 10)\n",
    "    ) for x in range(100, 90, -1)]\n",
    "asks: PriceSizePairs = [DollarsAndShares(\n",
    "        dollars=x,\n",
    "        shares=poisson(100. - (x - 105) * 10)\n",
    "    ) for x in range(105, 115, 1)]\n",
    "\n",
    "ob = OrderBook(descending_bids=bids, ascending_asks=asks)\n",
    "\n",
    "class OBDynam(MarkovRewardProcess[OrderBook, DollarsAndShares]):\n",
    "    def transition(self, state: OrderBook) -> Distribution[Tuple[OrderBook, DollarsAndShares]]:\n",
    "        d: Dict[Tuple[OrderBook, DollarsAndShares], float] = {}\n",
    "        bidshares = 0\n",
    "        for i in range(len(state.descending_bids)):\n",
    "            bidshares += state.descending_bids[i].shares\n",
    "        askshares = 0\n",
    "        for i in range(len(state.ascending_asks)):\n",
    "            askshares += state.ascending_asks[i].shares\n",
    "        \n",
    "        poisson_distr = pois(state.mid_price)\n",
    "        \n",
    "        \n",
    "        \n"
   ]
  },
  {
   "cell_type": "code",
   "execution_count": null,
   "metadata": {},
   "outputs": [],
   "source": []
  },
  {
   "cell_type": "markdown",
   "metadata": {},
   "source": [
    "### Question 2"
   ]
  },
  {
   "cell_type": "markdown",
   "metadata": {},
   "source": [
    "Given that we have a temporary price impact of:\n",
    "\n",
    "$$Q_t = P_t (1- \\beta N_t - \\theta X_t) $$\n",
    "\n",
    "The optimal value function is:\n",
    "\n",
    "$$V^*_t((P_t, R_t)) = \\max_{N_t} \\{N_t P_t(1 - \\beta N_t - \\theta X_t) + E[V^*_{t+1}((P_{t+1},R_{t+1}))]\\} $$\n",
    "\n",
    "$$V^*_{T-1}((P_{T-1}, R_{T-1})) = N_{T-1} P_{T-1}(1 - \\beta N_{T-1} - \\theta X_{T-1})$$\n",
    "\n",
    "$$ = R_{T-1} P_{T-1}(1 - \\beta R_{T-1} - \\theta X_{T-1}) $$"
   ]
  },
  {
   "cell_type": "markdown",
   "metadata": {},
   "source": [
    "Therefore we can infer $V^*_{T-2}((P_{T-2}, R_{T-2}))$ as:\n",
    "\n",
    "$$\\max_{N_{T-2}}\\{N_{T-2}P_{T-2}(1 - \\beta N_{T-2} - \\theta X_{T-2}) + E[R_{T-1} P_{T-1}(1 - \\beta R_{T-1} - \\theta X_{T-1})]\\} $$\n",
    "\n",
    "$$\\max_{N_{T-2}}\\{N_{T-2}P_{T-2}(1 - \\beta N_{T-2} - \\theta X_{T-2}) $$\n",
    "$$+ E[(R_{T-2} - N_{T-2}) P_{T-1}(1 - \\beta (R_{T-2} - N_{T-2}) - \\theta X_{T-1})]\\} $$"
   ]
  },
  {
   "cell_type": "markdown",
   "metadata": {},
   "source": [
    "This leads to:\n",
    "\n",
    "$$ {N_{T-2}}N_{T-2}P_{T-2}(1 - \\beta N_{T-2} - \\theta X_{T-2}) \\\\\n",
    "+ E[(R_{T-2} - N_{T-2}) (P_{T-2}e^{Z_{T-2}})(1 - \\beta (R_{T-2} - N_{T-2}) - \\theta (\\rho X_{T-2} + \\eta_{T-2}))] $$"
   ]
  },
  {
   "cell_type": "markdown",
   "metadata": {},
   "source": [
    "The expected value can then clear by knowing the means of our random variables. By grouping like terms, we get:\n",
    "\n",
    "$$ \\max_{N_{T_2}} N_{T-2}P_{T-2}(1 - e^{\\mu_Z + \\frac{\\sigma_Z^2}{2}}) - \\beta N^2_{T-2}P_{T-2} (1 + e^{\\mu_Z + \\frac{\\sigma_Z^2}{2}}) \\\\\n",
    " - \\beta P_{T-2}e^{\\mu_Z + \\frac{\\sigma_Z^2}{2}} (R^2_{T-2} - 2N_{T-2}R_{T-2}) \\\\\n",
    "  - \\theta N_{T-2}P_{T-2}X_{T-2}(1 - \\rho e^{\\mu_Z + \\frac{\\sigma_Z^2}{2}}) - \\theta \\rho  R_{T-2} P_{T-2} X_{T-2} e^{\\mu_Z + \\frac{\\sigma_Z^2}{2}}$$"
   ]
  },
  {
   "cell_type": "markdown",
   "metadata": {},
   "source": []
  }
 ],
 "metadata": {
  "interpreter": {
   "hash": "579dcdfb899fc187fdf97538744cc3a387eca9f5084bb8d1591af8d2d48fab3d"
  },
  "kernelspec": {
   "display_name": "Python 3.9.10 64-bit ('.venv': venv)",
   "language": "python",
   "name": "python3"
  },
  "language_info": {
   "codemirror_mode": {
    "name": "ipython",
    "version": 3
   },
   "file_extension": ".py",
   "mimetype": "text/x-python",
   "name": "python",
   "nbconvert_exporter": "python",
   "pygments_lexer": "ipython3",
   "version": "3.9.10"
  },
  "orig_nbformat": 4
 },
 "nbformat": 4,
 "nbformat_minor": 2
}
